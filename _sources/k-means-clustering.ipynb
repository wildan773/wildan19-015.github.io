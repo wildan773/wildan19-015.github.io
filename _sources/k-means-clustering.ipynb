{
 "cells": [
  {
   "cell_type": "markdown",
   "metadata": {},
   "source": [
    "# Analisis K-means Clustering data abstrak PTA ekonomi-management"
   ]
  },
  {
   "cell_type": "markdown",
   "metadata": {},
   "source": [
    "Ada 3 langkah utama dalam algoritma K-Means (dikenal juga sebagai algoritma Lloyd):\n",
    "\n",
    "1. Pisahkan sampel menjadi kelompok awal dengan menggunakan titik benih. Sampel terdekat dengan titik benih ini akan membuat kluster awal.\n",
    "2. Hitung jarak sampel ke titik pusat kelompok (sentroid) dan tetapkan sampel terdekat ke kluster mereka.\n",
    "3. Langkah ketiga adalah menghitung sentroid cluster yang baru dibuat (diperbarui).\n",
    "4. Kemudian ulangi langkah 2 dan 3 sampai algoritma bertemu."
   ]
  },
  {
   "cell_type": "markdown",
   "metadata": {},
   "source": [
    "## 1. Import library"
   ]
  },
  {
   "cell_type": "markdown",
   "metadata": {},
   "source": [
    "Import librari yang dibutuhkan seperti librari dibawah untuk menampilkan data"
   ]
  },
  {
   "cell_type": "code",
   "execution_count": 1,
   "metadata": {},
   "outputs": [],
   "source": [
    "import pandas as pd"
   ]
  },
  {
   "cell_type": "markdown",
   "metadata": {},
   "source": [
    "Memanggil dan Menampilkan data"
   ]
  },
  {
   "cell_type": "code",
   "execution_count": 2,
   "metadata": {},
   "outputs": [
    {
     "data": {
      "text/html": [
       "<div>\n",
       "<style scoped>\n",
       "    .dataframe tbody tr th:only-of-type {\n",
       "        vertical-align: middle;\n",
       "    }\n",
       "\n",
       "    .dataframe tbody tr th {\n",
       "        vertical-align: top;\n",
       "    }\n",
       "\n",
       "    .dataframe thead th {\n",
       "        text-align: right;\n",
       "    }\n",
       "</style>\n",
       "<table border=\"1\" class=\"dataframe\">\n",
       "  <thead>\n",
       "    <tr style=\"text-align: right;\">\n",
       "      <th></th>\n",
       "      <th>Judul</th>\n",
       "      <th>Mahasiswa</th>\n",
       "      <th>Dosbing_1</th>\n",
       "      <th>Dosbing_2</th>\n",
       "      <th>Abstrak_indo</th>\n",
       "      <th>Abstract_english</th>\n",
       "    </tr>\n",
       "  </thead>\n",
       "  <tbody>\n",
       "    <tr>\n",
       "      <th>0</th>\n",
       "      <td>Analisis Inovasi Dan Keunggulan Bersaing \\r\\nD...</td>\n",
       "      <td>Penulis : Sandy Ardiansyah</td>\n",
       "      <td>Dosen Pembimbing I : Dr. Ir. Nurita Andriani, MM.</td>\n",
       "      <td>Dosen Pembimbing II :Suyono, S.E., M. S. M.</td>\n",
       "      <td>ABSTRAK\\r\\n\\tTujuan penelitian ini adalah mend...</td>\n",
       "      <td>ABSTRACT\\r\\nThe purpose of this study is to de...</td>\n",
       "    </tr>\n",
       "    <tr>\n",
       "      <th>1</th>\n",
       "      <td>Pengaruh Bauran Pemasaran Terhadap Keputusan P...</td>\n",
       "      <td>Penulis : Mahrus Saleh</td>\n",
       "      <td>Dosen Pembimbing I : Dr.H Pribanus Wantara, Dr...</td>\n",
       "      <td>Dosen Pembimbing II :Hadi Purnomo, SE., MM</td>\n",
       "      <td>Objek penelitian ini adalah pembelian produk X...</td>\n",
       "      <td>Object this research is consumer product of XL...</td>\n",
       "    </tr>\n",
       "    <tr>\n",
       "      <th>2</th>\n",
       "      <td>ANALISIS PORTOFOLIO YANG OPTIMAL DI BEI DENGAN...</td>\n",
       "      <td>Penulis : Mira Dwiastuti</td>\n",
       "      <td>Dosen Pembimbing I : Hj Evaliati Amaniyah, S.E...</td>\n",
       "      <td>Dosen Pembimbing II :Echsan Gani, S.E, M.Si</td>\n",
       "      <td>Suatu keputusan investasi selalu berhubungan d...</td>\n",
       "      <td>An investment decision is always associated wi...</td>\n",
       "    </tr>\n",
       "    <tr>\n",
       "      <th>3</th>\n",
       "      <td>PENGARUH KOMPETENSI DOSEN TERHADAP KINERJA DOS...</td>\n",
       "      <td>Penulis : Aththaariq</td>\n",
       "      <td>Dosen Pembimbing I : Dr.RM Moch Wispandono,.S....</td>\n",
       "      <td>Dosen Pembimbing II :Dr. Muhammad Alkirom Wild...</td>\n",
       "      <td>Abstrak\\r\\n\\r\\nAththaariq, Pengaruh Kompetensi...</td>\n",
       "      <td>Abstract\\r\\n\\r\\nThis study is aimed to analyze...</td>\n",
       "    </tr>\n",
       "    <tr>\n",
       "      <th>4</th>\n",
       "      <td>PENGARUH FAKTOR-FAKTOR PELATIHAN DAN PENGEMBAN...</td>\n",
       "      <td>Penulis : SATIYAH</td>\n",
       "      <td>Dosen Pembimbing I : Dra. Hj. S. Anugrahini Ir...</td>\n",
       "      <td>Dosen Pembimbing II :Helmi Buyung Aulia,S,ST.S...</td>\n",
       "      <td>ABSTRAK\\r\\...</td>\n",
       "      <td>ABSTRACT...</td>\n",
       "    </tr>\n",
       "    <tr>\n",
       "      <th>5</th>\n",
       "      <td>analisis faktor-faktor yang berpengaruh terhad...</td>\n",
       "      <td>Penulis : Jailani</td>\n",
       "      <td>Dosen Pembimbing I : Hj. Evaliati amaniyah, SE...</td>\n",
       "      <td>Dosen Pembimbing II :Purnamawati, SE., M.Si</td>\n",
       "      <td>ABSTRAK\\r\\nTujuan penelitian ini adalah untuk ...</td>\n",
       "      <td>ABSTRACT\\r\\nThe objective of this research was...</td>\n",
       "    </tr>\n",
       "    <tr>\n",
       "      <th>6</th>\n",
       "      <td>Pengaruh Kompensasi Terhadap Kinerja Karywan p...</td>\n",
       "      <td>Penulis : agustin pratiwi</td>\n",
       "      <td>Dosen Pembimbing I : Drs.Ec. Mudji Kuswinarno....</td>\n",
       "      <td>Dosen Pembimbing II :Faidal. S.E, MM.</td>\n",
       "      <td>ABSTRAK \\r\\n\\r\\n\\tTujuan penelitian ini adalah...</td>\n",
       "      <td>ABSTRACT\\r\\n\\r\\n         The purpose of this s...</td>\n",
       "    </tr>\n",
       "    <tr>\n",
       "      <th>7</th>\n",
       "      <td>PENGARUH STRUKTUR MODAL DAN LIKUIDITAS TERHADA...</td>\n",
       "      <td>Penulis : AHMAD ZAINI ALI</td>\n",
       "      <td>Dosen Pembimbing I : R. GATOT HERU PRANJOTO, S...</td>\n",
       "      <td>Dosen Pembimbing II :PURNAMAWATI, SE., MSi</td>\n",
       "      <td>Pendekatan penelitian yang digunakan dalam pen...</td>\n",
       "      <td>The research approach used in this study is a ...</td>\n",
       "    </tr>\n",
       "    <tr>\n",
       "      <th>8</th>\n",
       "      <td>PENGARUH KUALITAS PELAYANAN TERHADAP KEPUASAN ...</td>\n",
       "      <td>Penulis : Annisa Lupita Rachmi Widhiastuti</td>\n",
       "      <td>Dosen Pembimbing I : Dr. H. Muh. Syarif. Drs E...</td>\n",
       "      <td>Dosen Pembimbing II :Yustina Chrismardani. S.S...</td>\n",
       "      <td>ABSTRAK\\r\\n\\r\\nTujuan penelitian ini adalah un...</td>\n",
       "      <td>ABSTRACT\\r\\nThe purpose of this study was to f...</td>\n",
       "    </tr>\n",
       "    <tr>\n",
       "      <th>9</th>\n",
       "      <td>PENGARUH PERILAKU KONSUMEN TERHADAP KEPUTUSAN ...</td>\n",
       "      <td>Penulis : Bany Azhar</td>\n",
       "      <td>Dosen Pembimbing I : dr.drs.Ec.H.Muh.Syarif,Msi</td>\n",
       "      <td>Dosen Pembimbing II :Hadi Purnomo, SE., MM</td>\n",
       "      <td>ABSTRAK\\r\\nTujuan penelitian ini adalah untuk ...</td>\n",
       "      <td>ABSTRACT\\r\\nThe purposes of this research (1) ...</td>\n",
       "    </tr>\n",
       "  </tbody>\n",
       "</table>\n",
       "</div>"
      ],
      "text/plain": [
       "                                               Judul  \\\n",
       "0  Analisis Inovasi Dan Keunggulan Bersaing \\r\\nD...   \n",
       "1  Pengaruh Bauran Pemasaran Terhadap Keputusan P...   \n",
       "2  ANALISIS PORTOFOLIO YANG OPTIMAL DI BEI DENGAN...   \n",
       "3  PENGARUH KOMPETENSI DOSEN TERHADAP KINERJA DOS...   \n",
       "4  PENGARUH FAKTOR-FAKTOR PELATIHAN DAN PENGEMBAN...   \n",
       "5  analisis faktor-faktor yang berpengaruh terhad...   \n",
       "6  Pengaruh Kompensasi Terhadap Kinerja Karywan p...   \n",
       "7  PENGARUH STRUKTUR MODAL DAN LIKUIDITAS TERHADA...   \n",
       "8  PENGARUH KUALITAS PELAYANAN TERHADAP KEPUASAN ...   \n",
       "9  PENGARUH PERILAKU KONSUMEN TERHADAP KEPUTUSAN ...   \n",
       "\n",
       "                                    Mahasiswa  \\\n",
       "0                  Penulis : Sandy Ardiansyah   \n",
       "1                      Penulis : Mahrus Saleh   \n",
       "2                    Penulis : Mira Dwiastuti   \n",
       "3                        Penulis : Aththaariq   \n",
       "4                           Penulis : SATIYAH   \n",
       "5                           Penulis : Jailani   \n",
       "6                   Penulis : agustin pratiwi   \n",
       "7                   Penulis : AHMAD ZAINI ALI   \n",
       "8  Penulis : Annisa Lupita Rachmi Widhiastuti   \n",
       "9                        Penulis : Bany Azhar   \n",
       "\n",
       "                                           Dosbing_1  \\\n",
       "0  Dosen Pembimbing I : Dr. Ir. Nurita Andriani, MM.   \n",
       "1  Dosen Pembimbing I : Dr.H Pribanus Wantara, Dr...   \n",
       "2  Dosen Pembimbing I : Hj Evaliati Amaniyah, S.E...   \n",
       "3  Dosen Pembimbing I : Dr.RM Moch Wispandono,.S....   \n",
       "4  Dosen Pembimbing I : Dra. Hj. S. Anugrahini Ir...   \n",
       "5  Dosen Pembimbing I : Hj. Evaliati amaniyah, SE...   \n",
       "6  Dosen Pembimbing I : Drs.Ec. Mudji Kuswinarno....   \n",
       "7  Dosen Pembimbing I : R. GATOT HERU PRANJOTO, S...   \n",
       "8  Dosen Pembimbing I : Dr. H. Muh. Syarif. Drs E...   \n",
       "9    Dosen Pembimbing I : dr.drs.Ec.H.Muh.Syarif,Msi   \n",
       "\n",
       "                                           Dosbing_2  \\\n",
       "0        Dosen Pembimbing II :Suyono, S.E., M. S. M.   \n",
       "1         Dosen Pembimbing II :Hadi Purnomo, SE., MM   \n",
       "2        Dosen Pembimbing II :Echsan Gani, S.E, M.Si   \n",
       "3  Dosen Pembimbing II :Dr. Muhammad Alkirom Wild...   \n",
       "4  Dosen Pembimbing II :Helmi Buyung Aulia,S,ST.S...   \n",
       "5        Dosen Pembimbing II :Purnamawati, SE., M.Si   \n",
       "6              Dosen Pembimbing II :Faidal. S.E, MM.   \n",
       "7         Dosen Pembimbing II :PURNAMAWATI, SE., MSi   \n",
       "8  Dosen Pembimbing II :Yustina Chrismardani. S.S...   \n",
       "9         Dosen Pembimbing II :Hadi Purnomo, SE., MM   \n",
       "\n",
       "                                        Abstrak_indo  \\\n",
       "0  ABSTRAK\\r\\n\\tTujuan penelitian ini adalah mend...   \n",
       "1  Objek penelitian ini adalah pembelian produk X...   \n",
       "2  Suatu keputusan investasi selalu berhubungan d...   \n",
       "3  Abstrak\\r\\n\\r\\nAththaariq, Pengaruh Kompetensi...   \n",
       "4                                      ABSTRAK\\r\\...   \n",
       "5  ABSTRAK\\r\\nTujuan penelitian ini adalah untuk ...   \n",
       "6  ABSTRAK \\r\\n\\r\\n\\tTujuan penelitian ini adalah...   \n",
       "7  Pendekatan penelitian yang digunakan dalam pen...   \n",
       "8  ABSTRAK\\r\\n\\r\\nTujuan penelitian ini adalah un...   \n",
       "9  ABSTRAK\\r\\nTujuan penelitian ini adalah untuk ...   \n",
       "\n",
       "                                    Abstract_english  \n",
       "0  ABSTRACT\\r\\nThe purpose of this study is to de...  \n",
       "1  Object this research is consumer product of XL...  \n",
       "2  An investment decision is always associated wi...  \n",
       "3  Abstract\\r\\n\\r\\nThis study is aimed to analyze...  \n",
       "4                                        ABSTRACT...  \n",
       "5  ABSTRACT\\r\\nThe objective of this research was...  \n",
       "6  ABSTRACT\\r\\n\\r\\n         The purpose of this s...  \n",
       "7  The research approach used in this study is a ...  \n",
       "8  ABSTRACT\\r\\nThe purpose of this study was to f...  \n",
       "9  ABSTRACT\\r\\nThe purposes of this research (1) ...  "
      ]
     },
     "execution_count": 2,
     "metadata": {},
     "output_type": "execute_result"
    }
   ],
   "source": [
    "data = pd.read_csv(\"data\\data.csv\")\n",
    "data.head(10)"
   ]
  },
  {
   "cell_type": "markdown",
   "metadata": {},
   "source": [
    "## 2. Preprocessing"
   ]
  },
  {
   "cell_type": "markdown",
   "metadata": {},
   "source": [
    "hapus atribut kolong yang tidak di butuhkan seperti 'Abstract_english','Mahasiswa', 'Dosbing_1', 'Dosbing_2"
   ]
  },
  {
   "cell_type": "code",
   "execution_count": 3,
   "metadata": {},
   "outputs": [],
   "source": [
    "data.drop([\"Judul\",'Abstract_english','Mahasiswa', 'Dosbing_1', 'Dosbing_2'],axis=1,inplace=True)"
   ]
  },
  {
   "cell_type": "code",
   "execution_count": 4,
   "metadata": {},
   "outputs": [
    {
     "data": {
      "text/html": [
       "<div>\n",
       "<style scoped>\n",
       "    .dataframe tbody tr th:only-of-type {\n",
       "        vertical-align: middle;\n",
       "    }\n",
       "\n",
       "    .dataframe tbody tr th {\n",
       "        vertical-align: top;\n",
       "    }\n",
       "\n",
       "    .dataframe thead th {\n",
       "        text-align: right;\n",
       "    }\n",
       "</style>\n",
       "<table border=\"1\" class=\"dataframe\">\n",
       "  <thead>\n",
       "    <tr style=\"text-align: right;\">\n",
       "      <th></th>\n",
       "      <th>Abstrak_indo</th>\n",
       "    </tr>\n",
       "  </thead>\n",
       "  <tbody>\n",
       "    <tr>\n",
       "      <th>0</th>\n",
       "      <td>ABSTRAK\\r\\n\\tTujuan penelitian ini adalah mend...</td>\n",
       "    </tr>\n",
       "    <tr>\n",
       "      <th>1</th>\n",
       "      <td>Objek penelitian ini adalah pembelian produk X...</td>\n",
       "    </tr>\n",
       "    <tr>\n",
       "      <th>2</th>\n",
       "      <td>Suatu keputusan investasi selalu berhubungan d...</td>\n",
       "    </tr>\n",
       "    <tr>\n",
       "      <th>3</th>\n",
       "      <td>Abstrak\\r\\n\\r\\nAththaariq, Pengaruh Kompetensi...</td>\n",
       "    </tr>\n",
       "    <tr>\n",
       "      <th>4</th>\n",
       "      <td>ABSTRAK\\r\\...</td>\n",
       "    </tr>\n",
       "    <tr>\n",
       "      <th>5</th>\n",
       "      <td>ABSTRAK\\r\\nTujuan penelitian ini adalah untuk ...</td>\n",
       "    </tr>\n",
       "    <tr>\n",
       "      <th>6</th>\n",
       "      <td>ABSTRAK \\r\\n\\r\\n\\tTujuan penelitian ini adalah...</td>\n",
       "    </tr>\n",
       "    <tr>\n",
       "      <th>7</th>\n",
       "      <td>Pendekatan penelitian yang digunakan dalam pen...</td>\n",
       "    </tr>\n",
       "    <tr>\n",
       "      <th>8</th>\n",
       "      <td>ABSTRAK\\r\\n\\r\\nTujuan penelitian ini adalah un...</td>\n",
       "    </tr>\n",
       "    <tr>\n",
       "      <th>9</th>\n",
       "      <td>ABSTRAK\\r\\nTujuan penelitian ini adalah untuk ...</td>\n",
       "    </tr>\n",
       "  </tbody>\n",
       "</table>\n",
       "</div>"
      ],
      "text/plain": [
       "                                        Abstrak_indo\n",
       "0  ABSTRAK\\r\\n\\tTujuan penelitian ini adalah mend...\n",
       "1  Objek penelitian ini adalah pembelian produk X...\n",
       "2  Suatu keputusan investasi selalu berhubungan d...\n",
       "3  Abstrak\\r\\n\\r\\nAththaariq, Pengaruh Kompetensi...\n",
       "4                                      ABSTRAK\\r\\...\n",
       "5  ABSTRAK\\r\\nTujuan penelitian ini adalah untuk ...\n",
       "6  ABSTRAK \\r\\n\\r\\n\\tTujuan penelitian ini adalah...\n",
       "7  Pendekatan penelitian yang digunakan dalam pen...\n",
       "8  ABSTRAK\\r\\n\\r\\nTujuan penelitian ini adalah un...\n",
       "9  ABSTRAK\\r\\nTujuan penelitian ini adalah untuk ..."
      ]
     },
     "execution_count": 4,
     "metadata": {},
     "output_type": "execute_result"
    }
   ],
   "source": [
    "data.head(10)"
   ]
  },
  {
   "cell_type": "markdown",
   "metadata": {},
   "source": [
    "# TFIDF "
   ]
  },
  {
   "cell_type": "markdown",
   "metadata": {},
   "source": [
    "## 3. StopWord"
   ]
  },
  {
   "cell_type": "markdown",
   "metadata": {},
   "source": [
    "Proses tokenisasi dan stopword berbahasa indonesia dan juga penghilngan karakter punctuation"
   ]
  },
  {
   "cell_type": "code",
   "execution_count": 5,
   "metadata": {},
   "outputs": [],
   "source": [
    "# import package\n",
    "from nltk.tokenize import word_tokenize\n",
    "from nltk.corpus import stopwords\n",
    "from sklearn.feature_extraction.text import CountVectorizer , TfidfVectorizer\n",
    "from string import punctuation\n",
    "sw_indo = stopwords.words('indonesian') + list(punctuation)"
   ]
  },
  {
   "cell_type": "markdown",
   "metadata": {},
   "source": [
    "proses TF idf menggunakan TfidfVectorizer"
   ]
  },
  {
   "cell_type": "code",
   "execution_count": 6,
   "metadata": {},
   "outputs": [
    {
     "name": "stderr",
     "output_type": "stream",
     "text": [
      "C:\\ProgramData\\Anaconda3\\lib\\site-packages\\sklearn\\feature_extraction\\text.py:388: UserWarning: Your stop_words may be inconsistent with your preprocessing. Tokenizing the stop words generated tokens ['``'] not in stop_words.\n",
      "  warnings.warn('Your stop_words may be inconsistent with '\n"
     ]
    }
   ],
   "source": [
    "bow = TfidfVectorizer(ngram_range=(1, 2), tokenizer=word_tokenize, stop_words=sw_indo, min_df=5)\n",
    "bow_matrix = bow.fit_transform(data.Abstrak_indo)"
   ]
  },
  {
   "cell_type": "markdown",
   "metadata": {},
   "source": [
    "menampilkan matriks "
   ]
  },
  {
   "cell_type": "code",
   "execution_count": 7,
   "metadata": {},
   "outputs": [
    {
     "name": "stdout",
     "output_type": "stream",
     "text": [
      "(12, 45)\n",
      "          0         1         2         3         4         5         6   \\\n",
      "0   0.157056  0.185914  0.134013  0.185914  0.000000  0.000000  0.000000   \n",
      "1   0.000000  0.000000  0.127019  0.088106  0.264317  0.000000  0.000000   \n",
      "2   0.000000  0.000000  0.000000  0.000000  0.000000  0.522852  0.261426   \n",
      "3   0.097111  0.000000  0.165726  0.000000  0.000000  0.114955  0.114955   \n",
      "4   0.104047  0.000000  0.177564  0.000000  0.615829  0.000000  0.000000   \n",
      "5   0.081885  0.096931  0.069871  0.096931  0.000000  0.290794  0.096931   \n",
      "6   0.144754  0.171352  0.123516  0.000000  0.171352  0.000000  0.000000   \n",
      "7   0.000000  0.000000  0.087511  0.000000  0.000000  0.121403  0.121403   \n",
      "8   0.071675  0.084845  0.000000  0.000000  0.000000  0.254535  0.084845   \n",
      "9   0.079405  0.093996  0.135510  0.093996  0.187991  0.000000  0.000000   \n",
      "10  0.000000  0.000000  0.069165  0.095952  0.383807  0.000000  0.000000   \n",
      "11  0.052146  0.061728  0.044495  0.061728  0.308638  0.185183  0.061728   \n",
      "\n",
      "          7         8         9   ...        35        36        37        38  \\\n",
      "0   0.000000  0.000000  0.000000  ...  0.000000  0.000000  0.314112  0.203615   \n",
      "1   0.137392  0.206088  0.192989  ...  0.063509  0.096494  0.074430  0.096494   \n",
      "2   0.000000  0.000000  0.000000  ...  0.000000  0.000000  0.000000  0.000000   \n",
      "3   0.179261  0.089630  0.125900  ...  0.082863  0.000000  0.097111  0.000000   \n",
      "4   0.096032  0.096032  0.000000  ...  0.088782  0.000000  0.000000  0.000000   \n",
      "5   0.075577  0.226732  0.318481  ...  0.069871  0.106160  0.081885  0.106160   \n",
      "6   0.133603  0.133603  0.000000  ...  0.247032  0.000000  0.000000  0.000000   \n",
      "7   0.094658  0.000000  0.000000  ...  0.175022  0.000000  0.102558  0.000000   \n",
      "8   0.000000  0.330768  0.278770  ...  0.061159  0.092923  0.000000  0.000000   \n",
      "9   0.073288  0.219865  0.000000  ...  0.067755  0.000000  0.158810  0.102945   \n",
      "10  0.074813  0.149627  0.000000  ...  0.138330  0.105087  0.081058  0.000000   \n",
      "11  0.048129  0.240645  0.135209  ...  0.088990  0.067605  0.052146  0.067605   \n",
      "\n",
      "          39        40        41        42        43        44  \n",
      "0   0.144957  0.144957  0.000000  0.000000  0.000000  0.000000  \n",
      "1   0.000000  0.000000  0.323357  0.161678  0.096494  0.190528  \n",
      "2   0.203834  0.203834  0.000000  0.000000  0.000000  0.000000  \n",
      "3   0.000000  0.000000  0.000000  0.000000  0.000000  0.497178  \n",
      "4   0.096032  0.096032  0.000000  0.000000  0.000000  0.177564  \n",
      "5   0.075577  0.075577  0.444684  0.177874  0.106160  0.279484  \n",
      "6   0.133603  0.133603  0.000000  0.000000  0.000000  0.370548  \n",
      "7   0.000000  0.000000  0.334171  0.111390  0.000000  0.262533  \n",
      "8   0.066154  0.066154  0.155695  0.077847  0.092923  0.733907  \n",
      "9   0.073288  0.073288  0.431216  0.086243  0.000000  0.338774  \n",
      "10  0.074813  0.074813  0.176076  0.088038  0.105087  0.276660  \n",
      "11  0.048129  0.048129  0.339819  0.113273  0.067605  0.444952  \n",
      "\n",
      "[12 rows x 45 columns]\n"
     ]
    }
   ],
   "source": [
    "print(bow_matrix.shape)\n",
    "type(bow_matrix)\n",
    "df=pd.DataFrame(bow_matrix.toarray())\n",
    "print(df)\n",
    "idf=bow.idf_"
   ]
  },
  {
   "cell_type": "markdown",
   "metadata": {},
   "source": [
    "## 4. K-mean Clustering"
   ]
  },
  {
   "cell_type": "markdown",
   "metadata": {},
   "source": [
    "Metode ini melihat persentase varians yang dijelaskan sebagai fungsi dari jumlah cluster: Seseorang harus memilih sejumlah cluster sehingga menambahkan cluster lain tidak memberikan pemodelan data yang jauh lebih baik. "
   ]
  },
  {
   "cell_type": "markdown",
   "metadata": {},
   "source": [
    "Mengimport librari KMeans"
   ]
  },
  {
   "cell_type": "code",
   "execution_count": 8,
   "metadata": {},
   "outputs": [],
   "source": [
    "from sklearn.cluster import KMeans"
   ]
  },
  {
   "cell_type": "markdown",
   "metadata": {},
   "source": [
    "Membagi klaster sebnyak 4 cluster"
   ]
  },
  {
   "cell_type": "code",
   "execution_count": 9,
   "metadata": {},
   "outputs": [],
   "source": [
    "kmeans = KMeans(n_clusters=4)"
   ]
  },
  {
   "cell_type": "markdown",
   "metadata": {},
   "source": [
    "Memsukkan Data yang sudah dilakukan term frekuensi "
   ]
  },
  {
   "cell_type": "code",
   "execution_count": 10,
   "metadata": {},
   "outputs": [
    {
     "data": {
      "text/plain": [
       "KMeans(n_clusters=4)"
      ]
     },
     "execution_count": 10,
     "metadata": {},
     "output_type": "execute_result"
    }
   ],
   "source": [
    "kmeans.fit(bow_matrix)"
   ]
  },
  {
   "cell_type": "markdown",
   "metadata": {},
   "source": [
    "meghitung matriks kmeans menggunakan cluster_centers_"
   ]
  },
  {
   "cell_type": "code",
   "execution_count": 11,
   "metadata": {},
   "outputs": [
    {
     "data": {
      "text/plain": [
       "array([[0.05118672, 0.0605921 , 0.05246073, 0.03231042, 0.        ,\n",
       "        0.22224397, 0.10105977, 0.05674506, 0.18583333, 0.19908344,\n",
       "        0.0296456 , 0.        , 0.1223704 , 0.12140688, 0.07284704,\n",
       "        0.0727781 , 0.07970739, 0.07284704, 0.06677567, 0.06677567,\n",
       "        0.06677567, 0.05118672, 0.15374503, 0.10390575, 0.27716161,\n",
       "        0.03538674, 0.03538674, 0.18074445, 0.        , 0.06148116,\n",
       "        0.06677567, 0.08193748, 0.06677567, 0.27817439, 0.03097441,\n",
       "        0.10201741, 0.06636115, 0.06148116, 0.03538674, 0.04724364,\n",
       "        0.04724364, 0.31151646, 0.1223704 , 0.06636115, 0.42530833],\n",
       "       [0.11530424, 0.0571174 , 0.15560192, 0.        , 0.2623938 ,\n",
       "        0.0383183 , 0.0383183 , 0.13629873, 0.10642196, 0.04196663,\n",
       "        0.10547391, 0.14948645, 0.        , 0.11478747, 0.02762103,\n",
       "        0.09817268, 0.        , 0.09838696, 0.08756457, 0.08756457,\n",
       "        0.14816562, 0.29534921, 0.06705286, 0.03766922, 0.2666576 ,\n",
       "        0.04196663, 0.04196663, 0.28358281, 0.        , 0.08062175,\n",
       "        0.08756457, 0.06188755, 0.1104964 , 0.19237777, 0.10452224,\n",
       "        0.13955897, 0.        , 0.03237036, 0.        , 0.0765452 ,\n",
       "        0.0765452 , 0.        , 0.        , 0.        , 0.34843004],\n",
       "       [0.05772137, 0.06832746, 0.10204028, 0.10513893, 0.22895054,\n",
       "        0.03703655, 0.01234552, 0.06672454, 0.16324491, 0.06563964,\n",
       "        0.23367224, 0.05469892, 0.0898465 , 0.09469351, 0.08962042,\n",
       "        0.04231217, 0.0551274 , 0.04925257, 0.0609116 , 0.0609116 ,\n",
       "        0.0641501 , 0.05906376, 0.06816734, 0.09754833, 0.26087685,\n",
       "        0.0551274 , 0.0551274 , 0.09910087, 0.43817773, 0.07229356,\n",
       "        0.0609116 , 0.06261113, 0.04618354, 0.0711581 , 0.03281982,\n",
       "        0.0717169 , 0.05383729, 0.13611098, 0.09413187, 0.06823759,\n",
       "        0.06823759, 0.25409352, 0.0898465 , 0.05383729, 0.25018281],\n",
       "       [0.        , 0.        , 0.        , 0.        , 0.        ,\n",
       "        0.52285228, 0.26142614, 0.        , 0.        , 0.        ,\n",
       "        0.        , 0.        , 0.        , 0.34878883, 0.18844414,\n",
       "        0.        , 0.        , 0.18844414, 0.        , 0.        ,\n",
       "        0.23986483, 0.22084642, 0.        , 0.        , 0.48440977,\n",
       "        0.        , 0.        , 0.        , 0.        , 0.        ,\n",
       "        0.        , 0.20383386, 0.        , 0.        , 0.        ,\n",
       "        0.        , 0.        , 0.        , 0.        , 0.20383386,\n",
       "        0.20383386, 0.        , 0.        , 0.        , 0.        ]])"
      ]
     },
     "execution_count": 11,
     "metadata": {},
     "output_type": "execute_result"
    }
   ],
   "source": [
    "kmeans.cluster_centers_"
   ]
  },
  {
   "cell_type": "markdown",
   "metadata": {},
   "source": [
    "Melabeli data "
   ]
  },
  {
   "cell_type": "code",
   "execution_count": 12,
   "metadata": {},
   "outputs": [
    {
     "data": {
      "text/plain": [
       "array([2, 2, 3, 1, 1, 0, 1, 0, 0, 2, 2, 2])"
      ]
     },
     "execution_count": 12,
     "metadata": {},
     "output_type": "execute_result"
    }
   ],
   "source": [
    "kmeans.labels_"
   ]
  },
  {
   "cell_type": "code",
   "execution_count": 13,
   "metadata": {},
   "outputs": [],
   "source": [
    "import numpy as np"
   ]
  },
  {
   "cell_type": "code",
   "execution_count": 14,
   "metadata": {},
   "outputs": [],
   "source": [
    "unique, counts = np.unique(kmeans.labels_, return_counts=True)"
   ]
  },
  {
   "cell_type": "code",
   "execution_count": 15,
   "metadata": {},
   "outputs": [
    {
     "data": {
      "text/plain": [
       "{0: 3, 1: 3, 2: 5, 3: 1}"
      ]
     },
     "execution_count": 15,
     "metadata": {},
     "output_type": "execute_result"
    }
   ],
   "source": [
    "dict_data = dict(zip(unique, counts))\n",
    "dict_data"
   ]
  },
  {
   "cell_type": "markdown",
   "metadata": {},
   "source": [
    "memasukkan Label kedalam kollom cluster"
   ]
  },
  {
   "cell_type": "code",
   "execution_count": 16,
   "metadata": {},
   "outputs": [],
   "source": [
    "data[\"cluster\"] = kmeans.labels_"
   ]
  },
  {
   "cell_type": "markdown",
   "metadata": {},
   "source": [
    "Inersia adalah jumlah kesalahan kuadrat untuk setiap cluster. \n",
    "Oleh karena itu semakin kecil inersia semakin padat cluster (lebih dekat bersama semua titik)\n"
   ]
  },
  {
   "cell_type": "code",
   "execution_count": 17,
   "metadata": {},
   "outputs": [
    {
     "data": {
      "text/plain": [
       "2.880764369515128"
      ]
     },
     "execution_count": 17,
     "metadata": {},
     "output_type": "execute_result"
    }
   ],
   "source": [
    "kmeans.inertia_"
   ]
  },
  {
   "cell_type": "code",
   "execution_count": 18,
   "metadata": {},
   "outputs": [
    {
     "data": {
      "text/plain": [
       "<bound method KMeans.score of KMeans(n_clusters=4)>"
      ]
     },
     "execution_count": 18,
     "metadata": {},
     "output_type": "execute_result"
    }
   ],
   "source": [
    "kmeans.score"
   ]
  },
  {
   "cell_type": "code",
   "execution_count": 19,
   "metadata": {},
   "outputs": [
    {
     "data": {
      "text/html": [
       "<div>\n",
       "<style scoped>\n",
       "    .dataframe tbody tr th:only-of-type {\n",
       "        vertical-align: middle;\n",
       "    }\n",
       "\n",
       "    .dataframe tbody tr th {\n",
       "        vertical-align: top;\n",
       "    }\n",
       "\n",
       "    .dataframe thead th {\n",
       "        text-align: right;\n",
       "    }\n",
       "</style>\n",
       "<table border=\"1\" class=\"dataframe\">\n",
       "  <thead>\n",
       "    <tr style=\"text-align: right;\">\n",
       "      <th></th>\n",
       "      <th>Abstrak_indo</th>\n",
       "      <th>cluster</th>\n",
       "    </tr>\n",
       "  </thead>\n",
       "  <tbody>\n",
       "    <tr>\n",
       "      <th>0</th>\n",
       "      <td>ABSTRAK\\r\\n\\tTujuan penelitian ini adalah mend...</td>\n",
       "      <td>2</td>\n",
       "    </tr>\n",
       "    <tr>\n",
       "      <th>1</th>\n",
       "      <td>Objek penelitian ini adalah pembelian produk X...</td>\n",
       "      <td>2</td>\n",
       "    </tr>\n",
       "    <tr>\n",
       "      <th>2</th>\n",
       "      <td>Suatu keputusan investasi selalu berhubungan d...</td>\n",
       "      <td>3</td>\n",
       "    </tr>\n",
       "    <tr>\n",
       "      <th>3</th>\n",
       "      <td>Abstrak\\r\\n\\r\\nAththaariq, Pengaruh Kompetensi...</td>\n",
       "      <td>1</td>\n",
       "    </tr>\n",
       "    <tr>\n",
       "      <th>4</th>\n",
       "      <td>ABSTRAK\\r\\...</td>\n",
       "      <td>1</td>\n",
       "    </tr>\n",
       "    <tr>\n",
       "      <th>5</th>\n",
       "      <td>ABSTRAK\\r\\nTujuan penelitian ini adalah untuk ...</td>\n",
       "      <td>0</td>\n",
       "    </tr>\n",
       "    <tr>\n",
       "      <th>6</th>\n",
       "      <td>ABSTRAK \\r\\n\\r\\n\\tTujuan penelitian ini adalah...</td>\n",
       "      <td>1</td>\n",
       "    </tr>\n",
       "    <tr>\n",
       "      <th>7</th>\n",
       "      <td>Pendekatan penelitian yang digunakan dalam pen...</td>\n",
       "      <td>0</td>\n",
       "    </tr>\n",
       "    <tr>\n",
       "      <th>8</th>\n",
       "      <td>ABSTRAK\\r\\n\\r\\nTujuan penelitian ini adalah un...</td>\n",
       "      <td>0</td>\n",
       "    </tr>\n",
       "    <tr>\n",
       "      <th>9</th>\n",
       "      <td>ABSTRAK\\r\\nTujuan penelitian ini adalah untuk ...</td>\n",
       "      <td>2</td>\n",
       "    </tr>\n",
       "    <tr>\n",
       "      <th>10</th>\n",
       "      <td>Tujuan penelitian ini adalah untuk mengetahui ...</td>\n",
       "      <td>2</td>\n",
       "    </tr>\n",
       "    <tr>\n",
       "      <th>11</th>\n",
       "      <td>ABSTRAK \\r\\nTujuan penelitian ini adalah (1) U...</td>\n",
       "      <td>2</td>\n",
       "    </tr>\n",
       "  </tbody>\n",
       "</table>\n",
       "</div>"
      ],
      "text/plain": [
       "                                         Abstrak_indo  cluster\n",
       "0   ABSTRAK\\r\\n\\tTujuan penelitian ini adalah mend...        2\n",
       "1   Objek penelitian ini adalah pembelian produk X...        2\n",
       "2   Suatu keputusan investasi selalu berhubungan d...        3\n",
       "3   Abstrak\\r\\n\\r\\nAththaariq, Pengaruh Kompetensi...        1\n",
       "4                                       ABSTRAK\\r\\...        1\n",
       "5   ABSTRAK\\r\\nTujuan penelitian ini adalah untuk ...        0\n",
       "6   ABSTRAK \\r\\n\\r\\n\\tTujuan penelitian ini adalah...        1\n",
       "7   Pendekatan penelitian yang digunakan dalam pen...        0\n",
       "8   ABSTRAK\\r\\n\\r\\nTujuan penelitian ini adalah un...        0\n",
       "9   ABSTRAK\\r\\nTujuan penelitian ini adalah untuk ...        2\n",
       "10  Tujuan penelitian ini adalah untuk mengetahui ...        2\n",
       "11  ABSTRAK \\r\\nTujuan penelitian ini adalah (1) U...        2"
      ]
     },
     "execution_count": 19,
     "metadata": {},
     "output_type": "execute_result"
    }
   ],
   "source": [
    "data"
   ]
  },
  {
   "cell_type": "code",
   "execution_count": null,
   "metadata": {},
   "outputs": [],
   "source": []
  },
  {
   "cell_type": "code",
   "execution_count": null,
   "metadata": {},
   "outputs": [],
   "source": []
  }
 ],
 "metadata": {
  "kernelspec": {
   "display_name": "Python 3 (ipykernel)",
   "language": "python",
   "name": "python3"
  },
  "language_info": {
   "codemirror_mode": {
    "name": "ipython",
    "version": 3
   },
   "file_extension": ".py",
   "mimetype": "text/x-python",
   "name": "python",
   "nbconvert_exporter": "python",
   "pygments_lexer": "ipython3",
   "version": "3.9.7"
  }
 },
 "nbformat": 4,
 "nbformat_minor": 2
}
