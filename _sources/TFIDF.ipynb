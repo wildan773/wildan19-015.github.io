{
 "cells": [
  {
   "cell_type": "markdown",
   "id": "49300977",
   "metadata": {},
   "source": [
    "# Prepocessing Data"
   ]
  },
  {
   "cell_type": "markdown",
   "id": "ce2936e3",
   "metadata": {},
   "source": [
    "## 1. Preprocessing"
   ]
  },
  {
   "cell_type": "markdown",
   "id": "346d53c7",
   "metadata": {},
   "source": [
    "<h3>Import Library</h3>"
   ]
  },
  {
   "cell_type": "markdown",
   "id": "6f81d87c",
   "metadata": {},
   "source": [
    "Memasukkan librari pandas untuk menampilkan data "
   ]
  },
  {
   "cell_type": "code",
   "execution_count": 1,
   "id": "1216faa4",
   "metadata": {},
   "outputs": [],
   "source": [
    "# import  packages\n",
    "import pandas as pd\n"
   ]
  },
  {
   "cell_type": "markdown",
   "id": "d9b91302",
   "metadata": {},
   "source": [
    "Membuat variabel df untuk menampilkan data abstrak yang sudah di crawler dari Portal Tugas Akademik"
   ]
  },
  {
   "cell_type": "code",
   "execution_count": 2,
   "id": "7d90db39",
   "metadata": {},
   "outputs": [
    {
     "data": {
      "text/html": [
       "<div>\n",
       "<style scoped>\n",
       "    .dataframe tbody tr th:only-of-type {\n",
       "        vertical-align: middle;\n",
       "    }\n",
       "\n",
       "    .dataframe tbody tr th {\n",
       "        vertical-align: top;\n",
       "    }\n",
       "\n",
       "    .dataframe thead th {\n",
       "        text-align: right;\n",
       "    }\n",
       "</style>\n",
       "<table border=\"1\" class=\"dataframe\">\n",
       "  <thead>\n",
       "    <tr style=\"text-align: right;\">\n",
       "      <th></th>\n",
       "      <th>Judul</th>\n",
       "      <th>Mahasiswa</th>\n",
       "      <th>Dosbing_1</th>\n",
       "      <th>Dosbing_2</th>\n",
       "      <th>Abstrak_indo</th>\n",
       "      <th>Abstract_english</th>\n",
       "    </tr>\n",
       "  </thead>\n",
       "  <tbody>\n",
       "    <tr>\n",
       "      <th>0</th>\n",
       "      <td>Analisis Inovasi Dan Keunggulan Bersaing \\r\\nD...</td>\n",
       "      <td>Penulis : Sandy Ardiansyah</td>\n",
       "      <td>Dosen Pembimbing I : Dr. Ir. Nurita Andriani, MM.</td>\n",
       "      <td>Dosen Pembimbing II :Suyono, S.E., M. S. M.</td>\n",
       "      <td>ABSTRAK\\r\\n\\tTujuan penelitian ini adalah mend...</td>\n",
       "      <td>ABSTRACT\\r\\nThe purpose of this study is to de...</td>\n",
       "    </tr>\n",
       "    <tr>\n",
       "      <th>1</th>\n",
       "      <td>Pengaruh Bauran Pemasaran Terhadap Keputusan P...</td>\n",
       "      <td>Penulis : Mahrus Saleh</td>\n",
       "      <td>Dosen Pembimbing I : Dr.H Pribanus Wantara, Dr...</td>\n",
       "      <td>Dosen Pembimbing II :Hadi Purnomo, SE., MM</td>\n",
       "      <td>Objek penelitian ini adalah pembelian produk X...</td>\n",
       "      <td>Object this research is consumer product of XL...</td>\n",
       "    </tr>\n",
       "    <tr>\n",
       "      <th>2</th>\n",
       "      <td>ANALISIS PORTOFOLIO YANG OPTIMAL DI BEI DENGAN...</td>\n",
       "      <td>Penulis : Mira Dwiastuti</td>\n",
       "      <td>Dosen Pembimbing I : Hj Evaliati Amaniyah, S.E...</td>\n",
       "      <td>Dosen Pembimbing II :Echsan Gani, S.E, M.Si</td>\n",
       "      <td>Suatu keputusan investasi selalu berhubungan d...</td>\n",
       "      <td>An investment decision is always associated wi...</td>\n",
       "    </tr>\n",
       "    <tr>\n",
       "      <th>3</th>\n",
       "      <td>PENGARUH KOMPETENSI DOSEN TERHADAP KINERJA DOS...</td>\n",
       "      <td>Penulis : Aththaariq</td>\n",
       "      <td>Dosen Pembimbing I : Dr.RM Moch Wispandono,.S....</td>\n",
       "      <td>Dosen Pembimbing II :Dr. Muhammad Alkirom Wild...</td>\n",
       "      <td>Abstrak\\r\\n\\r\\nAththaariq, Pengaruh Kompetensi...</td>\n",
       "      <td>Abstract\\r\\n\\r\\nThis study is aimed to analyze...</td>\n",
       "    </tr>\n",
       "    <tr>\n",
       "      <th>4</th>\n",
       "      <td>PENGARUH FAKTOR-FAKTOR PELATIHAN DAN PENGEMBAN...</td>\n",
       "      <td>Penulis : SATIYAH</td>\n",
       "      <td>Dosen Pembimbing I : Dra. Hj. S. Anugrahini Ir...</td>\n",
       "      <td>Dosen Pembimbing II :Helmi Buyung Aulia,S,ST.S...</td>\n",
       "      <td>ABSTRAK\\r\\...</td>\n",
       "      <td>ABSTRACT...</td>\n",
       "    </tr>\n",
       "    <tr>\n",
       "      <th>5</th>\n",
       "      <td>analisis faktor-faktor yang berpengaruh terhad...</td>\n",
       "      <td>Penulis : Jailani</td>\n",
       "      <td>Dosen Pembimbing I : Hj. Evaliati amaniyah, SE...</td>\n",
       "      <td>Dosen Pembimbing II :Purnamawati, SE., M.Si</td>\n",
       "      <td>ABSTRAK\\r\\nTujuan penelitian ini adalah untuk ...</td>\n",
       "      <td>ABSTRACT\\r\\nThe objective of this research was...</td>\n",
       "    </tr>\n",
       "    <tr>\n",
       "      <th>6</th>\n",
       "      <td>Pengaruh Kompensasi Terhadap Kinerja Karywan p...</td>\n",
       "      <td>Penulis : agustin pratiwi</td>\n",
       "      <td>Dosen Pembimbing I : Drs.Ec. Mudji Kuswinarno....</td>\n",
       "      <td>Dosen Pembimbing II :Faidal. S.E, MM.</td>\n",
       "      <td>ABSTRAK \\r\\n\\r\\n\\tTujuan penelitian ini adalah...</td>\n",
       "      <td>ABSTRACT\\r\\n\\r\\n         The purpose of this s...</td>\n",
       "    </tr>\n",
       "    <tr>\n",
       "      <th>7</th>\n",
       "      <td>PENGARUH STRUKTUR MODAL DAN LIKUIDITAS TERHADA...</td>\n",
       "      <td>Penulis : AHMAD ZAINI ALI</td>\n",
       "      <td>Dosen Pembimbing I : R. GATOT HERU PRANJOTO, S...</td>\n",
       "      <td>Dosen Pembimbing II :PURNAMAWATI, SE., MSi</td>\n",
       "      <td>Pendekatan penelitian yang digunakan dalam pen...</td>\n",
       "      <td>The research approach used in this study is a ...</td>\n",
       "    </tr>\n",
       "    <tr>\n",
       "      <th>8</th>\n",
       "      <td>PENGARUH KUALITAS PELAYANAN TERHADAP KEPUASAN ...</td>\n",
       "      <td>Penulis : Annisa Lupita Rachmi Widhiastuti</td>\n",
       "      <td>Dosen Pembimbing I : Dr. H. Muh. Syarif. Drs E...</td>\n",
       "      <td>Dosen Pembimbing II :Yustina Chrismardani. S.S...</td>\n",
       "      <td>ABSTRAK\\r\\n\\r\\nTujuan penelitian ini adalah un...</td>\n",
       "      <td>ABSTRACT\\r\\nThe purpose of this study was to f...</td>\n",
       "    </tr>\n",
       "    <tr>\n",
       "      <th>9</th>\n",
       "      <td>PENGARUH PERILAKU KONSUMEN TERHADAP KEPUTUSAN ...</td>\n",
       "      <td>Penulis : Bany Azhar</td>\n",
       "      <td>Dosen Pembimbing I : dr.drs.Ec.H.Muh.Syarif,Msi</td>\n",
       "      <td>Dosen Pembimbing II :Hadi Purnomo, SE., MM</td>\n",
       "      <td>ABSTRAK\\r\\nTujuan penelitian ini adalah untuk ...</td>\n",
       "      <td>ABSTRACT\\r\\nThe purposes of this research (1) ...</td>\n",
       "    </tr>\n",
       "    <tr>\n",
       "      <th>10</th>\n",
       "      <td>PENGARUH PERSEPSI NILAI TERHADAP KEPUASAN PELA...</td>\n",
       "      <td>Penulis : Hasan Basri</td>\n",
       "      <td>Dosen Pembimbing I : Dr. Nurita Andriani, Ir., MM</td>\n",
       "      <td>Dosen Pembimbing II :Yustina Chrismardani, S.S...</td>\n",
       "      <td>Tujuan penelitian ini adalah untuk mengetahui ...</td>\n",
       "      <td>The purpose of this study was to find the effe...</td>\n",
       "    </tr>\n",
       "    <tr>\n",
       "      <th>11</th>\n",
       "      <td>PENGARUH HARGA DAN KUALITAS PRODUK TERHADAP KE...</td>\n",
       "      <td>Penulis : Irnita Agustin Putri</td>\n",
       "      <td>Dosen Pembimbing I : Dr. Drs. Ec H. Muh Syarif...</td>\n",
       "      <td>Dosen Pembimbing II :Hadi Purnomo, S.E., MM</td>\n",
       "      <td>ABSTRAK \\r\\nTujuan penelitian ini adalah (1) U...</td>\n",
       "      <td>\\tThe objective of this study are (1) To find ...</td>\n",
       "    </tr>\n",
       "  </tbody>\n",
       "</table>\n",
       "</div>"
      ],
      "text/plain": [
       "                                                Judul  \\\n",
       "0   Analisis Inovasi Dan Keunggulan Bersaing \\r\\nD...   \n",
       "1   Pengaruh Bauran Pemasaran Terhadap Keputusan P...   \n",
       "2   ANALISIS PORTOFOLIO YANG OPTIMAL DI BEI DENGAN...   \n",
       "3   PENGARUH KOMPETENSI DOSEN TERHADAP KINERJA DOS...   \n",
       "4   PENGARUH FAKTOR-FAKTOR PELATIHAN DAN PENGEMBAN...   \n",
       "5   analisis faktor-faktor yang berpengaruh terhad...   \n",
       "6   Pengaruh Kompensasi Terhadap Kinerja Karywan p...   \n",
       "7   PENGARUH STRUKTUR MODAL DAN LIKUIDITAS TERHADA...   \n",
       "8   PENGARUH KUALITAS PELAYANAN TERHADAP KEPUASAN ...   \n",
       "9   PENGARUH PERILAKU KONSUMEN TERHADAP KEPUTUSAN ...   \n",
       "10  PENGARUH PERSEPSI NILAI TERHADAP KEPUASAN PELA...   \n",
       "11  PENGARUH HARGA DAN KUALITAS PRODUK TERHADAP KE...   \n",
       "\n",
       "                                     Mahasiswa  \\\n",
       "0                   Penulis : Sandy Ardiansyah   \n",
       "1                       Penulis : Mahrus Saleh   \n",
       "2                     Penulis : Mira Dwiastuti   \n",
       "3                         Penulis : Aththaariq   \n",
       "4                            Penulis : SATIYAH   \n",
       "5                            Penulis : Jailani   \n",
       "6                    Penulis : agustin pratiwi   \n",
       "7                    Penulis : AHMAD ZAINI ALI   \n",
       "8   Penulis : Annisa Lupita Rachmi Widhiastuti   \n",
       "9                         Penulis : Bany Azhar   \n",
       "10                       Penulis : Hasan Basri   \n",
       "11              Penulis : Irnita Agustin Putri   \n",
       "\n",
       "                                            Dosbing_1  \\\n",
       "0   Dosen Pembimbing I : Dr. Ir. Nurita Andriani, MM.   \n",
       "1   Dosen Pembimbing I : Dr.H Pribanus Wantara, Dr...   \n",
       "2   Dosen Pembimbing I : Hj Evaliati Amaniyah, S.E...   \n",
       "3   Dosen Pembimbing I : Dr.RM Moch Wispandono,.S....   \n",
       "4   Dosen Pembimbing I : Dra. Hj. S. Anugrahini Ir...   \n",
       "5   Dosen Pembimbing I : Hj. Evaliati amaniyah, SE...   \n",
       "6   Dosen Pembimbing I : Drs.Ec. Mudji Kuswinarno....   \n",
       "7   Dosen Pembimbing I : R. GATOT HERU PRANJOTO, S...   \n",
       "8   Dosen Pembimbing I : Dr. H. Muh. Syarif. Drs E...   \n",
       "9     Dosen Pembimbing I : dr.drs.Ec.H.Muh.Syarif,Msi   \n",
       "10  Dosen Pembimbing I : Dr. Nurita Andriani, Ir., MM   \n",
       "11  Dosen Pembimbing I : Dr. Drs. Ec H. Muh Syarif...   \n",
       "\n",
       "                                            Dosbing_2  \\\n",
       "0         Dosen Pembimbing II :Suyono, S.E., M. S. M.   \n",
       "1          Dosen Pembimbing II :Hadi Purnomo, SE., MM   \n",
       "2         Dosen Pembimbing II :Echsan Gani, S.E, M.Si   \n",
       "3   Dosen Pembimbing II :Dr. Muhammad Alkirom Wild...   \n",
       "4   Dosen Pembimbing II :Helmi Buyung Aulia,S,ST.S...   \n",
       "5         Dosen Pembimbing II :Purnamawati, SE., M.Si   \n",
       "6               Dosen Pembimbing II :Faidal. S.E, MM.   \n",
       "7          Dosen Pembimbing II :PURNAMAWATI, SE., MSi   \n",
       "8   Dosen Pembimbing II :Yustina Chrismardani. S.S...   \n",
       "9          Dosen Pembimbing II :Hadi Purnomo, SE., MM   \n",
       "10  Dosen Pembimbing II :Yustina Chrismardani, S.S...   \n",
       "11        Dosen Pembimbing II :Hadi Purnomo, S.E., MM   \n",
       "\n",
       "                                         Abstrak_indo  \\\n",
       "0   ABSTRAK\\r\\n\\tTujuan penelitian ini adalah mend...   \n",
       "1   Objek penelitian ini adalah pembelian produk X...   \n",
       "2   Suatu keputusan investasi selalu berhubungan d...   \n",
       "3   Abstrak\\r\\n\\r\\nAththaariq, Pengaruh Kompetensi...   \n",
       "4                                       ABSTRAK\\r\\...   \n",
       "5   ABSTRAK\\r\\nTujuan penelitian ini adalah untuk ...   \n",
       "6   ABSTRAK \\r\\n\\r\\n\\tTujuan penelitian ini adalah...   \n",
       "7   Pendekatan penelitian yang digunakan dalam pen...   \n",
       "8   ABSTRAK\\r\\n\\r\\nTujuan penelitian ini adalah un...   \n",
       "9   ABSTRAK\\r\\nTujuan penelitian ini adalah untuk ...   \n",
       "10  Tujuan penelitian ini adalah untuk mengetahui ...   \n",
       "11  ABSTRAK \\r\\nTujuan penelitian ini adalah (1) U...   \n",
       "\n",
       "                                     Abstract_english  \n",
       "0   ABSTRACT\\r\\nThe purpose of this study is to de...  \n",
       "1   Object this research is consumer product of XL...  \n",
       "2   An investment decision is always associated wi...  \n",
       "3   Abstract\\r\\n\\r\\nThis study is aimed to analyze...  \n",
       "4                                         ABSTRACT...  \n",
       "5   ABSTRACT\\r\\nThe objective of this research was...  \n",
       "6   ABSTRACT\\r\\n\\r\\n         The purpose of this s...  \n",
       "7   The research approach used in this study is a ...  \n",
       "8   ABSTRACT\\r\\nThe purpose of this study was to f...  \n",
       "9   ABSTRACT\\r\\nThe purposes of this research (1) ...  \n",
       "10  The purpose of this study was to find the effe...  \n",
       "11  \\tThe objective of this study are (1) To find ...  "
      ]
     },
     "execution_count": 2,
     "metadata": {},
     "output_type": "execute_result"
    }
   ],
   "source": [
    "df = pd.read_csv('data\\data.csv')\n",
    "df"
   ]
  },
  {
   "cell_type": "markdown",
   "id": "a8aadaf4",
   "metadata": {},
   "source": [
    "Data yang digunakan yaitu sebanyak 60 abstrak dan 7 atribut"
   ]
  },
  {
   "cell_type": "code",
   "execution_count": 3,
   "id": "9ffca90e",
   "metadata": {},
   "outputs": [
    {
     "data": {
      "text/plain": [
       "(12, 6)"
      ]
     },
     "execution_count": 3,
     "metadata": {},
     "output_type": "execute_result"
    }
   ],
   "source": [
    "df.shape"
   ]
  },
  {
   "cell_type": "markdown",
   "id": "9979bc0c",
   "metadata": {},
   "source": [
    "Menghapus atribut judul, kolom Penulis, Dosbing_1, dan Dosbing_2"
   ]
  },
  {
   "cell_type": "code",
   "execution_count": 4,
   "id": "15b11c04",
   "metadata": {},
   "outputs": [],
   "source": [
    "df.drop(['Judul','Mahasiswa', 'Dosbing_1', 'Dosbing_2'],axis=1,inplace=True)"
   ]
  },
  {
   "cell_type": "code",
   "execution_count": 5,
   "id": "f7a057a8",
   "metadata": {},
   "outputs": [
    {
     "data": {
      "text/html": [
       "<div>\n",
       "<style scoped>\n",
       "    .dataframe tbody tr th:only-of-type {\n",
       "        vertical-align: middle;\n",
       "    }\n",
       "\n",
       "    .dataframe tbody tr th {\n",
       "        vertical-align: top;\n",
       "    }\n",
       "\n",
       "    .dataframe thead th {\n",
       "        text-align: right;\n",
       "    }\n",
       "</style>\n",
       "<table border=\"1\" class=\"dataframe\">\n",
       "  <thead>\n",
       "    <tr style=\"text-align: right;\">\n",
       "      <th></th>\n",
       "      <th>Abstrak_indo</th>\n",
       "      <th>Abstract_english</th>\n",
       "    </tr>\n",
       "  </thead>\n",
       "  <tbody>\n",
       "    <tr>\n",
       "      <th>0</th>\n",
       "      <td>ABSTRAK\\r\\n\\tTujuan penelitian ini adalah mend...</td>\n",
       "      <td>ABSTRACT\\r\\nThe purpose of this study is to de...</td>\n",
       "    </tr>\n",
       "    <tr>\n",
       "      <th>1</th>\n",
       "      <td>Objek penelitian ini adalah pembelian produk X...</td>\n",
       "      <td>Object this research is consumer product of XL...</td>\n",
       "    </tr>\n",
       "    <tr>\n",
       "      <th>2</th>\n",
       "      <td>Suatu keputusan investasi selalu berhubungan d...</td>\n",
       "      <td>An investment decision is always associated wi...</td>\n",
       "    </tr>\n",
       "    <tr>\n",
       "      <th>3</th>\n",
       "      <td>Abstrak\\r\\n\\r\\nAththaariq, Pengaruh Kompetensi...</td>\n",
       "      <td>Abstract\\r\\n\\r\\nThis study is aimed to analyze...</td>\n",
       "    </tr>\n",
       "    <tr>\n",
       "      <th>4</th>\n",
       "      <td>ABSTRAK\\r\\...</td>\n",
       "      <td>ABSTRACT...</td>\n",
       "    </tr>\n",
       "    <tr>\n",
       "      <th>5</th>\n",
       "      <td>ABSTRAK\\r\\nTujuan penelitian ini adalah untuk ...</td>\n",
       "      <td>ABSTRACT\\r\\nThe objective of this research was...</td>\n",
       "    </tr>\n",
       "    <tr>\n",
       "      <th>6</th>\n",
       "      <td>ABSTRAK \\r\\n\\r\\n\\tTujuan penelitian ini adalah...</td>\n",
       "      <td>ABSTRACT\\r\\n\\r\\n         The purpose of this s...</td>\n",
       "    </tr>\n",
       "    <tr>\n",
       "      <th>7</th>\n",
       "      <td>Pendekatan penelitian yang digunakan dalam pen...</td>\n",
       "      <td>The research approach used in this study is a ...</td>\n",
       "    </tr>\n",
       "    <tr>\n",
       "      <th>8</th>\n",
       "      <td>ABSTRAK\\r\\n\\r\\nTujuan penelitian ini adalah un...</td>\n",
       "      <td>ABSTRACT\\r\\nThe purpose of this study was to f...</td>\n",
       "    </tr>\n",
       "    <tr>\n",
       "      <th>9</th>\n",
       "      <td>ABSTRAK\\r\\nTujuan penelitian ini adalah untuk ...</td>\n",
       "      <td>ABSTRACT\\r\\nThe purposes of this research (1) ...</td>\n",
       "    </tr>\n",
       "  </tbody>\n",
       "</table>\n",
       "</div>"
      ],
      "text/plain": [
       "                                        Abstrak_indo  \\\n",
       "0  ABSTRAK\\r\\n\\tTujuan penelitian ini adalah mend...   \n",
       "1  Objek penelitian ini adalah pembelian produk X...   \n",
       "2  Suatu keputusan investasi selalu berhubungan d...   \n",
       "3  Abstrak\\r\\n\\r\\nAththaariq, Pengaruh Kompetensi...   \n",
       "4                                      ABSTRAK\\r\\...   \n",
       "5  ABSTRAK\\r\\nTujuan penelitian ini adalah untuk ...   \n",
       "6  ABSTRAK \\r\\n\\r\\n\\tTujuan penelitian ini adalah...   \n",
       "7  Pendekatan penelitian yang digunakan dalam pen...   \n",
       "8  ABSTRAK\\r\\n\\r\\nTujuan penelitian ini adalah un...   \n",
       "9  ABSTRAK\\r\\nTujuan penelitian ini adalah untuk ...   \n",
       "\n",
       "                                    Abstract_english  \n",
       "0  ABSTRACT\\r\\nThe purpose of this study is to de...  \n",
       "1  Object this research is consumer product of XL...  \n",
       "2  An investment decision is always associated wi...  \n",
       "3  Abstract\\r\\n\\r\\nThis study is aimed to analyze...  \n",
       "4                                        ABSTRACT...  \n",
       "5  ABSTRACT\\r\\nThe objective of this research was...  \n",
       "6  ABSTRACT\\r\\n\\r\\n         The purpose of this s...  \n",
       "7  The research approach used in this study is a ...  \n",
       "8  ABSTRACT\\r\\nThe purpose of this study was to f...  \n",
       "9  ABSTRACT\\r\\nThe purposes of this research (1) ...  "
      ]
     },
     "execution_count": 5,
     "metadata": {},
     "output_type": "execute_result"
    }
   ],
   "source": [
    "df.head(10)"
   ]
  },
  {
   "cell_type": "markdown",
   "id": "925b71f3",
   "metadata": {},
   "source": [
    "## 2. Tokenisasi dan Stopword"
   ]
  },
  {
   "cell_type": "markdown",
   "id": "58c6b1f8",
   "metadata": {},
   "source": [
    "Import library unntuk proses tokenisasi dan stopword yaitu word_tokenize dan stopwords berbahasa indonesia. library punctuation untuk menghilangkan spesial karakter. Dan library CountVectorizer untuk proses featur extraction"
   ]
  },
  {
   "cell_type": "code",
   "execution_count": 6,
   "id": "37266ee3",
   "metadata": {},
   "outputs": [],
   "source": [
    "# import package\n",
    "from nltk.tokenize import word_tokenize\n",
    "from nltk.corpus import stopwords\n",
    "from sklearn.feature_extraction.text import CountVectorizer , TfidfVectorizer\n",
    "from string import punctuation\n",
    "sw_indo = stopwords.words('indonesian') + list(punctuation)"
   ]
  },
  {
   "cell_type": "markdown",
   "id": "64ba7312",
   "metadata": {},
   "source": [
    "Menampilkan kata stopwords berbahasa indonesia dan spesial karakter yang akan dihapus. "
   ]
  },
  {
   "cell_type": "code",
   "execution_count": 7,
   "id": "ca275c56",
   "metadata": {},
   "outputs": [
    {
     "name": "stdout",
     "output_type": "stream",
     "text": [
      "['ada', 'adalah', 'adanya', 'adapun', 'agak', 'agaknya', 'agar', 'akan', 'akankah', 'akhir', 'akhiri', 'akhirnya', 'aku', 'akulah', 'amat', 'amatlah', 'anda', 'andalah', 'antar', 'antara', 'antaranya', 'apa', 'apaan', 'apabila', 'apakah', 'apalagi', 'apatah', 'artinya', 'asal', 'asalkan', 'atas', 'atau', 'ataukah', 'ataupun', 'awal', 'awalnya', 'bagai', 'bagaikan', 'bagaimana', 'bagaimanakah', 'bagaimanapun', 'bagi', 'bagian', 'bahkan', 'bahwa', 'bahwasanya', 'baik', 'bakal', 'bakalan', 'balik', 'banyak', 'bapak', 'baru', 'bawah', 'beberapa', 'begini', 'beginian', 'beginikah', 'beginilah', 'begitu', 'begitukah', 'begitulah', 'begitupun', 'bekerja', 'belakang', 'belakangan', 'belum', 'belumlah', 'benar', 'benarkah', 'benarlah', 'berada', 'berakhir', 'berakhirlah', 'berakhirnya', 'berapa', 'berapakah', 'berapalah', 'berapapun', 'berarti', 'berawal', 'berbagai', 'berdatangan', 'beri', 'berikan', 'berikut', 'berikutnya', 'berjumlah', 'berkali-kali', 'berkata', 'berkehendak', 'berkeinginan', 'berkenaan', 'berlainan', 'berlalu', 'berlangsung', 'berlebihan', 'bermacam', 'bermacam-macam', 'bermaksud', 'bermula', 'bersama', 'bersama-sama', 'bersiap', 'bersiap-siap', 'bertanya', 'bertanya-tanya', 'berturut', 'berturut-turut', 'bertutur', 'berujar', 'berupa', 'besar', 'betul', 'betulkah', 'biasa', 'biasanya', 'bila', 'bilakah', 'bisa', 'bisakah', 'boleh', 'bolehkah', 'bolehlah', 'buat', 'bukan', 'bukankah', 'bukanlah', 'bukannya', 'bulan', 'bung', 'cara', 'caranya', 'cukup', 'cukupkah', 'cukuplah', 'cuma', 'dahulu', 'dalam', 'dan', 'dapat', 'dari', 'daripada', 'datang', 'dekat', 'demi', 'demikian', 'demikianlah', 'dengan', 'depan', 'di', 'dia', 'diakhiri', 'diakhirinya', 'dialah', 'diantara', 'diantaranya', 'diberi', 'diberikan', 'diberikannya', 'dibuat', 'dibuatnya', 'didapat', 'didatangkan', 'digunakan', 'diibaratkan', 'diibaratkannya', 'diingat', 'diingatkan', 'diinginkan', 'dijawab', 'dijelaskan', 'dijelaskannya', 'dikarenakan', 'dikatakan', 'dikatakannya', 'dikerjakan', 'diketahui', 'diketahuinya', 'dikira', 'dilakukan', 'dilalui', 'dilihat', 'dimaksud', 'dimaksudkan', 'dimaksudkannya', 'dimaksudnya', 'diminta', 'dimintai', 'dimisalkan', 'dimulai', 'dimulailah', 'dimulainya', 'dimungkinkan', 'dini', 'dipastikan', 'diperbuat', 'diperbuatnya', 'dipergunakan', 'diperkirakan', 'diperlihatkan', 'diperlukan', 'diperlukannya', 'dipersoalkan', 'dipertanyakan', 'dipunyai', 'diri', 'dirinya', 'disampaikan', 'disebut', 'disebutkan', 'disebutkannya', 'disini', 'disinilah', 'ditambahkan', 'ditandaskan', 'ditanya', 'ditanyai', 'ditanyakan', 'ditegaskan', 'ditujukan', 'ditunjuk', 'ditunjuki', 'ditunjukkan', 'ditunjukkannya', 'ditunjuknya', 'dituturkan', 'dituturkannya', 'diucapkan', 'diucapkannya', 'diungkapkan', 'dong', 'dua', 'dulu', 'empat', 'enggak', 'enggaknya', 'entah', 'entahlah', 'guna', 'gunakan', 'hal', 'hampir', 'hanya', 'hanyalah', 'hari', 'harus', 'haruslah', 'harusnya', 'hendak', 'hendaklah', 'hendaknya', 'hingga', 'ia', 'ialah', 'ibarat', 'ibaratkan', 'ibaratnya', 'ibu', 'ikut', 'ingat', 'ingat-ingat', 'ingin', 'inginkah', 'inginkan', 'ini', 'inikah', 'inilah', 'itu', 'itukah', 'itulah', 'jadi', 'jadilah', 'jadinya', 'jangan', 'jangankan', 'janganlah', 'jauh', 'jawab', 'jawaban', 'jawabnya', 'jelas', 'jelaskan', 'jelaslah', 'jelasnya', 'jika', 'jikalau', 'juga', 'jumlah', 'jumlahnya', 'justru', 'kala', 'kalau', 'kalaulah', 'kalaupun', 'kalian', 'kami', 'kamilah', 'kamu', 'kamulah', 'kan', 'kapan', 'kapankah', 'kapanpun', 'karena', 'karenanya', 'kasus', 'kata', 'katakan', 'katakanlah', 'katanya', 'ke', 'keadaan', 'kebetulan', 'kecil', 'kedua', 'keduanya', 'keinginan', 'kelamaan', 'kelihatan', 'kelihatannya', 'kelima', 'keluar', 'kembali', 'kemudian', 'kemungkinan', 'kemungkinannya', 'kenapa', 'kepada', 'kepadanya', 'kesampaian', 'keseluruhan', 'keseluruhannya', 'keterlaluan', 'ketika', 'khususnya', 'kini', 'kinilah', 'kira', 'kira-kira', 'kiranya', 'kita', 'kitalah', 'kok', 'kurang', 'lagi', 'lagian', 'lah', 'lain', 'lainnya', 'lalu', 'lama', 'lamanya', 'lanjut', 'lanjutnya', 'lebih', 'lewat', 'lima', 'luar', 'macam', 'maka', 'makanya', 'makin', 'malah', 'malahan', 'mampu', 'mampukah', 'mana', 'manakala', 'manalagi', 'masa', 'masalah', 'masalahnya', 'masih', 'masihkah', 'masing', 'masing-masing', 'mau', 'maupun', 'melainkan', 'melakukan', 'melalui', 'melihat', 'melihatnya', 'memang', 'memastikan', 'memberi', 'memberikan', 'membuat', 'memerlukan', 'memihak', 'meminta', 'memintakan', 'memisalkan', 'memperbuat', 'mempergunakan', 'memperkirakan', 'memperlihatkan', 'mempersiapkan', 'mempersoalkan', 'mempertanyakan', 'mempunyai', 'memulai', 'memungkinkan', 'menaiki', 'menambahkan', 'menandaskan', 'menanti', 'menanti-nanti', 'menantikan', 'menanya', 'menanyai', 'menanyakan', 'mendapat', 'mendapatkan', 'mendatang', 'mendatangi', 'mendatangkan', 'menegaskan', 'mengakhiri', 'mengapa', 'mengatakan', 'mengatakannya', 'mengenai', 'mengerjakan', 'mengetahui', 'menggunakan', 'menghendaki', 'mengibaratkan', 'mengibaratkannya', 'mengingat', 'mengingatkan', 'menginginkan', 'mengira', 'mengucapkan', 'mengucapkannya', 'mengungkapkan', 'menjadi', 'menjawab', 'menjelaskan', 'menuju', 'menunjuk', 'menunjuki', 'menunjukkan', 'menunjuknya', 'menurut', 'menuturkan', 'menyampaikan', 'menyangkut', 'menyatakan', 'menyebutkan', 'menyeluruh', 'menyiapkan', 'merasa', 'mereka', 'merekalah', 'merupakan', 'meski', 'meskipun', 'meyakini', 'meyakinkan', 'minta', 'mirip', 'misal', 'misalkan', 'misalnya', 'mula', 'mulai', 'mulailah', 'mulanya', 'mungkin', 'mungkinkah', 'nah', 'naik', 'namun', 'nanti', 'nantinya', 'nyaris', 'nyatanya', 'oleh', 'olehnya', 'pada', 'padahal', 'padanya', 'pak', 'paling', 'panjang', 'pantas', 'para', 'pasti', 'pastilah', 'penting', 'pentingnya', 'per', 'percuma', 'perlu', 'perlukah', 'perlunya', 'pernah', 'persoalan', 'pertama', 'pertama-tama', 'pertanyaan', 'pertanyakan', 'pihak', 'pihaknya', 'pukul', 'pula', 'pun', 'punya', 'rasa', 'rasanya', 'rata', 'rupanya', 'saat', 'saatnya', 'saja', 'sajalah', 'saling', 'sama', 'sama-sama', 'sambil', 'sampai', 'sampai-sampai', 'sampaikan', 'sana', 'sangat', 'sangatlah', 'satu', 'saya', 'sayalah', 'se', 'sebab', 'sebabnya', 'sebagai', 'sebagaimana', 'sebagainya', 'sebagian', 'sebaik', 'sebaik-baiknya', 'sebaiknya', 'sebaliknya', 'sebanyak', 'sebegini', 'sebegitu', 'sebelum', 'sebelumnya', 'sebenarnya', 'seberapa', 'sebesar', 'sebetulnya', 'sebisanya', 'sebuah', 'sebut', 'sebutlah', 'sebutnya', 'secara', 'secukupnya', 'sedang', 'sedangkan', 'sedemikian', 'sedikit', 'sedikitnya', 'seenaknya', 'segala', 'segalanya', 'segera', 'seharusnya', 'sehingga', 'seingat', 'sejak', 'sejauh', 'sejenak', 'sejumlah', 'sekadar', 'sekadarnya', 'sekali', 'sekali-kali', 'sekalian', 'sekaligus', 'sekalipun', 'sekarang', 'sekarang', 'sekecil', 'seketika', 'sekiranya', 'sekitar', 'sekitarnya', 'sekurang-kurangnya', 'sekurangnya', 'sela', 'selain', 'selaku', 'selalu', 'selama', 'selama-lamanya', 'selamanya', 'selanjutnya', 'seluruh', 'seluruhnya', 'semacam', 'semakin', 'semampu', 'semampunya', 'semasa', 'semasih', 'semata', 'semata-mata', 'semaunya', 'sementara', 'semisal', 'semisalnya', 'sempat', 'semua', 'semuanya', 'semula', 'sendiri', 'sendirian', 'sendirinya', 'seolah', 'seolah-olah', 'seorang', 'sepanjang', 'sepantasnya', 'sepantasnyalah', 'seperlunya', 'seperti', 'sepertinya', 'sepihak', 'sering', 'seringnya', 'serta', 'serupa', 'sesaat', 'sesama', 'sesampai', 'sesegera', 'sesekali', 'seseorang', 'sesuatu', 'sesuatunya', 'sesudah', 'sesudahnya', 'setelah', 'setempat', 'setengah', 'seterusnya', 'setiap', 'setiba', 'setibanya', 'setidak-tidaknya', 'setidaknya', 'setinggi', 'seusai', 'sewaktu', 'siap', 'siapa', 'siapakah', 'siapapun', 'sini', 'sinilah', 'soal', 'soalnya', 'suatu', 'sudah', 'sudahkah', 'sudahlah', 'supaya', 'tadi', 'tadinya', 'tahu', 'tahun', 'tak', 'tambah', 'tambahnya', 'tampak', 'tampaknya', 'tandas', 'tandasnya', 'tanpa', 'tanya', 'tanyakan', 'tanyanya', 'tapi', 'tegas', 'tegasnya', 'telah', 'tempat', 'tengah', 'tentang', 'tentu', 'tentulah', 'tentunya', 'tepat', 'terakhir', 'terasa', 'terbanyak', 'terdahulu', 'terdapat', 'terdiri', 'terhadap', 'terhadapnya', 'teringat', 'teringat-ingat', 'terjadi', 'terjadilah', 'terjadinya', 'terkira', 'terlalu', 'terlebih', 'terlihat', 'termasuk', 'ternyata', 'tersampaikan', 'tersebut', 'tersebutlah', 'tertentu', 'tertuju', 'terus', 'terutama', 'tetap', 'tetapi', 'tiap', 'tiba', 'tiba-tiba', 'tidak', 'tidakkah', 'tidaklah', 'tiga', 'tinggi', 'toh', 'tunjuk', 'turut', 'tutur', 'tuturnya', 'ucap', 'ucapnya', 'ujar', 'ujarnya', 'umum', 'umumnya', 'ungkap', 'ungkapnya', 'untuk', 'usah', 'usai', 'waduh', 'wah', 'wahai', 'waktu', 'waktunya', 'walau', 'walaupun', 'wong', 'yaitu', 'yakin', 'yakni', 'yang', '!', '\"', '#', '$', '%', '&', \"'\", '(', ')', '*', '+', ',', '-', '.', '/', ':', ';', '<', '=', '>', '?', '@', '[', '\\\\', ']', '^', '_', '`', '{', '|', '}', '~']\n"
     ]
    }
   ],
   "source": [
    "print(sw_indo)"
   ]
  },
  {
   "cell_type": "markdown",
   "id": "8128d058",
   "metadata": {},
   "source": [
    "## 3. TF-IDF"
   ]
  },
  {
   "cell_type": "markdown",
   "id": "ed86635f",
   "metadata": {},
   "source": [
    "Data di atas adalah data yang sudah diproses menggunakan TF-IDF untuk menentukan Term Frequency tiap topik. TF-IDF (Term Frequency - Inverse Document Frequency) adalah algoritma praktis yang menggunakan frekuensi kata untuk menentukan seberapa relevan kata-kata itu dengan dokumen tertentu. Ini adalah pendekatan yang relatif sederhana namun intuitif untuk pembobotan kata, memungkinkannya bertindak sebagai titik awal yang bagus untuk berbagai tugas."
   ]
  },
  {
   "cell_type": "code",
   "execution_count": 8,
   "id": "7036143a",
   "metadata": {},
   "outputs": [
    {
     "name": "stderr",
     "output_type": "stream",
     "text": [
      "C:\\ProgramData\\Anaconda3\\lib\\site-packages\\sklearn\\feature_extraction\\text.py:388: UserWarning: Your stop_words may be inconsistent with your preprocessing. Tokenizing the stop words generated tokens ['``'] not in stop_words.\n",
      "  warnings.warn('Your stop_words may be inconsistent with '\n"
     ]
    }
   ],
   "source": [
    "\n",
    "bow = TfidfVectorizer(ngram_range=(1, 2), tokenizer=word_tokenize, stop_words=sw_indo, min_df=5)\n",
    "bow_matrix = bow.fit_transform(df.Abstrak_indo)"
   ]
  },
  {
   "cell_type": "code",
   "execution_count": 9,
   "id": "a3a3bee2",
   "metadata": {},
   "outputs": [
    {
     "name": "stdout",
     "output_type": "stream",
     "text": [
      "(12, 45)\n",
      "          0         1         2         3         4         5         6   \\\n",
      "0   0.157056  0.185914  0.134013  0.185914  0.000000  0.000000  0.000000   \n",
      "1   0.000000  0.000000  0.127019  0.088106  0.264317  0.000000  0.000000   \n",
      "2   0.000000  0.000000  0.000000  0.000000  0.000000  0.522852  0.261426   \n",
      "3   0.097111  0.000000  0.165726  0.000000  0.000000  0.114955  0.114955   \n",
      "4   0.104047  0.000000  0.177564  0.000000  0.615829  0.000000  0.000000   \n",
      "5   0.081885  0.096931  0.069871  0.096931  0.000000  0.290794  0.096931   \n",
      "6   0.144754  0.171352  0.123516  0.000000  0.171352  0.000000  0.000000   \n",
      "7   0.000000  0.000000  0.087511  0.000000  0.000000  0.121403  0.121403   \n",
      "8   0.071675  0.084845  0.000000  0.000000  0.000000  0.254535  0.084845   \n",
      "9   0.079405  0.093996  0.135510  0.093996  0.187991  0.000000  0.000000   \n",
      "10  0.000000  0.000000  0.069165  0.095952  0.383807  0.000000  0.000000   \n",
      "11  0.052146  0.061728  0.044495  0.061728  0.308638  0.185183  0.061728   \n",
      "\n",
      "          7         8         9   ...        35        36        37        38  \\\n",
      "0   0.000000  0.000000  0.000000  ...  0.000000  0.000000  0.314112  0.203615   \n",
      "1   0.137392  0.206088  0.192989  ...  0.063509  0.096494  0.074430  0.096494   \n",
      "2   0.000000  0.000000  0.000000  ...  0.000000  0.000000  0.000000  0.000000   \n",
      "3   0.179261  0.089630  0.125900  ...  0.082863  0.000000  0.097111  0.000000   \n",
      "4   0.096032  0.096032  0.000000  ...  0.088782  0.000000  0.000000  0.000000   \n",
      "5   0.075577  0.226732  0.318481  ...  0.069871  0.106160  0.081885  0.106160   \n",
      "6   0.133603  0.133603  0.000000  ...  0.247032  0.000000  0.000000  0.000000   \n",
      "7   0.094658  0.000000  0.000000  ...  0.175022  0.000000  0.102558  0.000000   \n",
      "8   0.000000  0.330768  0.278770  ...  0.061159  0.092923  0.000000  0.000000   \n",
      "9   0.073288  0.219865  0.000000  ...  0.067755  0.000000  0.158810  0.102945   \n",
      "10  0.074813  0.149627  0.000000  ...  0.138330  0.105087  0.081058  0.000000   \n",
      "11  0.048129  0.240645  0.135209  ...  0.088990  0.067605  0.052146  0.067605   \n",
      "\n",
      "          39        40        41        42        43        44  \n",
      "0   0.144957  0.144957  0.000000  0.000000  0.000000  0.000000  \n",
      "1   0.000000  0.000000  0.323357  0.161678  0.096494  0.190528  \n",
      "2   0.203834  0.203834  0.000000  0.000000  0.000000  0.000000  \n",
      "3   0.000000  0.000000  0.000000  0.000000  0.000000  0.497178  \n",
      "4   0.096032  0.096032  0.000000  0.000000  0.000000  0.177564  \n",
      "5   0.075577  0.075577  0.444684  0.177874  0.106160  0.279484  \n",
      "6   0.133603  0.133603  0.000000  0.000000  0.000000  0.370548  \n",
      "7   0.000000  0.000000  0.334171  0.111390  0.000000  0.262533  \n",
      "8   0.066154  0.066154  0.155695  0.077847  0.092923  0.733907  \n",
      "9   0.073288  0.073288  0.431216  0.086243  0.000000  0.338774  \n",
      "10  0.074813  0.074813  0.176076  0.088038  0.105087  0.276660  \n",
      "11  0.048129  0.048129  0.339819  0.113273  0.067605  0.444952  \n",
      "\n",
      "[12 rows x 45 columns]\n"
     ]
    }
   ],
   "source": [
    "print(bow_matrix.shape)\n",
    "type(bow_matrix)\n",
    "df=pd.DataFrame(bow_matrix.toarray())\n",
    "print(df)\n",
    "idf=bow.idf_"
   ]
  },
  {
   "cell_type": "markdown",
   "id": "db2f5c6a",
   "metadata": {},
   "source": [
    "Hasil untuk proses diatas  diperoleh kata seperti kumpulan kata dibawah kemudian akan di proses untuk model selanjutnya"
   ]
  },
  {
   "cell_type": "code",
   "execution_count": 10,
   "id": "7edb99e8",
   "metadata": {},
   "outputs": [
    {
     "name": "stdout",
     "output_type": "stream",
     "text": [
      "['abstrak', 'abstrak tujuan', 'analisis', 'analisis data', 'bangkalan', 'berdasarkan', 'berdasarkan hasil', 'berganda', 'berpengaruh', 'berpengaruh signifikan', 'data', 'dominan', 'f', 'hasil', 'hasil penelitian', 'hipotesis', 'kuantitatif', 'kunci', 'linier', 'linier berganda', 'metode', 'nilai', 'parsial', 'pendekatan', 'penelitian', 'pengambilan', 'pengambilan sampel', 'pengaruh', 'produk', 'regresi', 'regresi linier', 'sampel', 'sampling', 'signifikan', 'signifikan variabel', 'simultan', 't', 'teknik', 'teknik analisis', 'tujuan', 'tujuan penelitian', 'uji', 'uji f', 'uji t', 'variabel']\n"
     ]
    }
   ],
   "source": [
    "vocab = bow.get_feature_names()\n",
    "print(vocab)"
   ]
  }
 ],
 "metadata": {
  "kernelspec": {
   "display_name": "Python 3 (ipykernel)",
   "language": "python",
   "name": "python3"
  },
  "language_info": {
   "codemirror_mode": {
    "name": "ipython",
    "version": 3
   },
   "file_extension": ".py",
   "mimetype": "text/x-python",
   "name": "python",
   "nbconvert_exporter": "python",
   "pygments_lexer": "ipython3",
   "version": "3.9.7"
  }
 },
 "nbformat": 4,
 "nbformat_minor": 5
}
