{
 "cells": [
  {
   "cell_type": "markdown",
   "id": "49300977",
   "metadata": {},
   "source": [
    "# Topik Modelling Using LSA"
   ]
  },
  {
   "cell_type": "markdown",
   "id": "fb9f9d72",
   "metadata": {},
   "source": [
    "Latent Semantic Analysis atau LSA, adalah salah satu teknik dasar dalam pemodelan topik. Ide intinya adalah untuk mengambil matriks dari apa yang kita miliki dokumen dan istilah dan menguraikannya menjadi matriks topik-dokumen yang terpisah dan matriks topik-istilah."
   ]
  },
  {
   "cell_type": "markdown",
   "id": "9c60d443",
   "metadata": {},
   "source": [
    "Langkah-langkah untuk proses LSA yatu:\n",
    "1. Preprocessing\n",
    "2. Tokenisasi dan Stopword\n",
    "3. Extract Bag of Words (BoW)\n",
    "4. Topik Modelling LSA"
   ]
  },
  {
   "cell_type": "markdown",
   "id": "ce2936e3",
   "metadata": {},
   "source": [
    "## 1. Preprocessing"
   ]
  },
  {
   "cell_type": "markdown",
   "id": "346d53c7",
   "metadata": {},
   "source": [
    "<h3>Import Library</h3>"
   ]
  },
  {
   "cell_type": "markdown",
   "id": "6f81d87c",
   "metadata": {},
   "source": [
    "Memasukkan librari pandas untuk menampilkan data "
   ]
  },
  {
   "cell_type": "code",
   "execution_count": 1,
   "id": "1216faa4",
   "metadata": {},
   "outputs": [],
   "source": [
    "# import  packages\n",
    "import pandas as pd\n"
   ]
  },
  {
   "cell_type": "markdown",
   "id": "d9b91302",
   "metadata": {},
   "source": [
    "Membuat variabel df untuk menampilkan data abstrak yang sudah di crawler dari Portal Tugas Akademik"
   ]
  },
  {
   "cell_type": "code",
   "execution_count": 2,
   "id": "7d90db39",
   "metadata": {},
   "outputs": [
    {
     "data": {
      "text/html": [
       "<div>\n",
       "<style scoped>\n",
       "    .dataframe tbody tr th:only-of-type {\n",
       "        vertical-align: middle;\n",
       "    }\n",
       "\n",
       "    .dataframe tbody tr th {\n",
       "        vertical-align: top;\n",
       "    }\n",
       "\n",
       "    .dataframe thead th {\n",
       "        text-align: right;\n",
       "    }\n",
       "</style>\n",
       "<table border=\"1\" class=\"dataframe\">\n",
       "  <thead>\n",
       "    <tr style=\"text-align: right;\">\n",
       "      <th></th>\n",
       "      <th>Judul</th>\n",
       "      <th>Penulis</th>\n",
       "      <th>Dosbing_1</th>\n",
       "      <th>Dosbing_2</th>\n",
       "      <th>Abstrak_indo</th>\n",
       "    </tr>\n",
       "  </thead>\n",
       "  <tbody>\n",
       "    <tr>\n",
       "      <th>0</th>\n",
       "      <td>APLIKASI DAN DESAIN MODEL DECISION AID PELANGG...</td>\n",
       "      <td>Ardiyanto Setiawan</td>\n",
       "      <td>Moch. Kautsar Sophan, S.Kom., M.MT.</td>\n",
       "      <td>eni Kustiyah Ningsih, S.Kom., M.Kom.</td>\n",
       "      <td>Toko Batik Tulis Madura merupakan salah satu t...</td>\n",
       "    </tr>\n",
       "    <tr>\n",
       "      <th>1</th>\n",
       "      <td>ANALISA DATA ANTARAN POS EXPRESS MENGGUNAKAN\\r...</td>\n",
       "      <td>siti murtasiyah warda</td>\n",
       "      <td>Bain Khusnul Khotimah.,S.T.,M.Kom</td>\n",
       "      <td>irli Irhamni, S.T., M.Kom.</td>\n",
       "      <td>PT. Pos Indonesia (Persero) merupakan salah sa...</td>\n",
       "    </tr>\n",
       "    <tr>\n",
       "      <th>2</th>\n",
       "      <td>Model Penjualan Produk Unggulan Batik Khas Pam...</td>\n",
       "      <td>Murni Rotifah</td>\n",
       "      <td>Moch. Kautsar Sophan, S.Kom, M.MT</td>\n",
       "      <td>ain Khusnul Khotimah, S.T., M.Kom</td>\n",
       "      <td>Kabupaten Pamekasan merupakan salah satu pusat...</td>\n",
       "    </tr>\n",
       "    <tr>\n",
       "      <th>3</th>\n",
       "      <td>PENERAPAN METODE ANALYTICAL HIERARCHY PROCESS ...</td>\n",
       "      <td>Helyatin</td>\n",
       "      <td>Bain Khusnul K, S.T.,M.Kom</td>\n",
       "      <td>ndharini Dwi C, S.Kom.,M.Kom</td>\n",
       "      <td>Pemilihan  supplier merupakan salah satu isu p...</td>\n",
       "    </tr>\n",
       "    <tr>\n",
       "      <th>4</th>\n",
       "      <td>PENGELOMPOKAN KUALITAS KELAS PADA SISWA MENGGU...</td>\n",
       "      <td>Hamiyah</td>\n",
       "      <td>Bain Khusnul K,ST.,M.Kom</td>\n",
       "      <td>irli Irhamni, ST, M. Kom</td>\n",
       "      <td>ABSTRAK\\r\\nData yang terdapat pada SMA Wachid ...</td>\n",
       "    </tr>\n",
       "    <tr>\n",
       "      <th>5</th>\n",
       "      <td>SISTEM PENDUKUNG KEPUTUSAN PEMILIHAN KARYAWAN ...</td>\n",
       "      <td>Catur Ngesti Waluyo</td>\n",
       "      <td>Mula'ab,S.Si.,M.Kom</td>\n",
       "      <td>iza Alfita, S.T., M.T</td>\n",
       "      <td>Sumber daya manusia mutlak dibutuhkan untuk ke...</td>\n",
       "    </tr>\n",
       "    <tr>\n",
       "      <th>6</th>\n",
       "      <td>Deteksi Manusia Menggunakan Histogram of Orien...</td>\n",
       "      <td>R.A. Uluwiyah Nur Oktavianis</td>\n",
       "      <td>Dr. Indah Agustien, S.Kom., M.Kom</td>\n",
       "      <td>ri Kusumaningsih, S.T, M.T</td>\n",
       "      <td>Deteksi manusia merupakan  suatu aplikasi yang...</td>\n",
       "    </tr>\n",
       "    <tr>\n",
       "      <th>7</th>\n",
       "      <td>KLASIFIKASI STATUS GIZI BALITA MENGGUNAKAN KOH...</td>\n",
       "      <td>Uhty Zunairoh</td>\n",
       "      <td>Bain Khusnul Khotimah, S.T., M.Kom.</td>\n",
       "      <td>eri Rachmad, S.T., M.T.</td>\n",
       "      <td>Aplikasi klasifikasi status gizi balita ini di...</td>\n",
       "    </tr>\n",
       "    <tr>\n",
       "      <th>8</th>\n",
       "      <td>Aplikasi Penilaian Kinerja dengan Metodologi C...</td>\n",
       "      <td>Luthfi Zahro</td>\n",
       "      <td>Moch. Kautsar Sophan, S.Kom., M.MT</td>\n",
       "      <td>r. Rachmad Hidayat, ST., MT</td>\n",
       "      <td>Setiap perusahaan mengharapkan adanya hubungan...</td>\n",
       "    </tr>\n",
       "    <tr>\n",
       "      <th>9</th>\n",
       "      <td>APLIKASI CITRA MOSAIC PANORAMIC MENGGUNAKAN ME...</td>\n",
       "      <td>Gendra Budiarti</td>\n",
       "      <td>Eza Rahmanita, ST, MT</td>\n",
       "      <td>eidya Koeshardianto, S.Si, MT</td>\n",
       "      <td>Sebuah citra banyak diterapkan dalam berbagai ...</td>\n",
       "    </tr>\n",
       "  </tbody>\n",
       "</table>\n",
       "</div>"
      ],
      "text/plain": [
       "                                               Judul  \\\n",
       "0  APLIKASI DAN DESAIN MODEL DECISION AID PELANGG...   \n",
       "1  ANALISA DATA ANTARAN POS EXPRESS MENGGUNAKAN\\r...   \n",
       "2  Model Penjualan Produk Unggulan Batik Khas Pam...   \n",
       "3  PENERAPAN METODE ANALYTICAL HIERARCHY PROCESS ...   \n",
       "4  PENGELOMPOKAN KUALITAS KELAS PADA SISWA MENGGU...   \n",
       "5  SISTEM PENDUKUNG KEPUTUSAN PEMILIHAN KARYAWAN ...   \n",
       "6  Deteksi Manusia Menggunakan Histogram of Orien...   \n",
       "7  KLASIFIKASI STATUS GIZI BALITA MENGGUNAKAN KOH...   \n",
       "8  Aplikasi Penilaian Kinerja dengan Metodologi C...   \n",
       "9  APLIKASI CITRA MOSAIC PANORAMIC MENGGUNAKAN ME...   \n",
       "\n",
       "                         Penulis                            Dosbing_1  \\\n",
       "0             Ardiyanto Setiawan  Moch. Kautsar Sophan, S.Kom., M.MT.   \n",
       "1          siti murtasiyah warda    Bain Khusnul Khotimah.,S.T.,M.Kom   \n",
       "2                  Murni Rotifah    Moch. Kautsar Sophan, S.Kom, M.MT   \n",
       "3                       Helyatin           Bain Khusnul K, S.T.,M.Kom   \n",
       "4                        Hamiyah             Bain Khusnul K,ST.,M.Kom   \n",
       "5            Catur Ngesti Waluyo                  Mula'ab,S.Si.,M.Kom   \n",
       "6  R.A. Uluwiyah Nur Oktavianis     Dr. Indah Agustien, S.Kom., M.Kom   \n",
       "7                  Uhty Zunairoh  Bain Khusnul Khotimah, S.T., M.Kom.   \n",
       "8                   Luthfi Zahro   Moch. Kautsar Sophan, S.Kom., M.MT   \n",
       "9                Gendra Budiarti                Eza Rahmanita, ST, MT   \n",
       "\n",
       "                                 Dosbing_2  \\\n",
       "0     eni Kustiyah Ningsih, S.Kom., M.Kom.   \n",
       "1               irli Irhamni, S.T., M.Kom.   \n",
       "2  ain Khusnul Khotimah, S.T., M.Kom         \n",
       "3             ndharini Dwi C, S.Kom.,M.Kom   \n",
       "4                 irli Irhamni, ST, M. Kom   \n",
       "5                    iza Alfita, S.T., M.T   \n",
       "6               ri Kusumaningsih, S.T, M.T   \n",
       "7                  eri Rachmad, S.T., M.T.   \n",
       "8              r. Rachmad Hidayat, ST., MT   \n",
       "9            eidya Koeshardianto, S.Si, MT   \n",
       "\n",
       "                                        Abstrak_indo  \n",
       "0  Toko Batik Tulis Madura merupakan salah satu t...  \n",
       "1  PT. Pos Indonesia (Persero) merupakan salah sa...  \n",
       "2  Kabupaten Pamekasan merupakan salah satu pusat...  \n",
       "3  Pemilihan  supplier merupakan salah satu isu p...  \n",
       "4  ABSTRAK\\r\\nData yang terdapat pada SMA Wachid ...  \n",
       "5  Sumber daya manusia mutlak dibutuhkan untuk ke...  \n",
       "6  Deteksi manusia merupakan  suatu aplikasi yang...  \n",
       "7  Aplikasi klasifikasi status gizi balita ini di...  \n",
       "8  Setiap perusahaan mengharapkan adanya hubungan...  \n",
       "9  Sebuah citra banyak diterapkan dalam berbagai ...  "
      ]
     },
     "execution_count": 2,
     "metadata": {},
     "output_type": "execute_result"
    }
   ],
   "source": [
    "df = pd.read_csv('data\\data_abstrak.csv')\n",
    "df.head(10)"
   ]
  },
  {
   "cell_type": "markdown",
   "id": "a8aadaf4",
   "metadata": {},
   "source": [
    "Data yang digunakan yaitu sebanyak 60 abstrak dan 7 atribut"
   ]
  },
  {
   "cell_type": "code",
   "execution_count": 3,
   "id": "9ffca90e",
   "metadata": {},
   "outputs": [
    {
     "data": {
      "text/plain": [
       "(60, 5)"
      ]
     },
     "execution_count": 3,
     "metadata": {},
     "output_type": "execute_result"
    }
   ],
   "source": [
    "df.shape"
   ]
  },
  {
   "cell_type": "markdown",
   "id": "9979bc0c",
   "metadata": {},
   "source": [
    "Menghapus atribut judul, kolom Penulis, Dosbing_1, dan Dosbing_2"
   ]
  },
  {
   "cell_type": "code",
   "execution_count": 4,
   "id": "15b11c04",
   "metadata": {},
   "outputs": [],
   "source": [
    "df.drop(['Judul','Penulis', 'Dosbing_1', 'Dosbing_2'],axis=1,inplace=True)"
   ]
  },
  {
   "cell_type": "code",
   "execution_count": 5,
   "id": "f7a057a8",
   "metadata": {},
   "outputs": [
    {
     "data": {
      "text/html": [
       "<div>\n",
       "<style scoped>\n",
       "    .dataframe tbody tr th:only-of-type {\n",
       "        vertical-align: middle;\n",
       "    }\n",
       "\n",
       "    .dataframe tbody tr th {\n",
       "        vertical-align: top;\n",
       "    }\n",
       "\n",
       "    .dataframe thead th {\n",
       "        text-align: right;\n",
       "    }\n",
       "</style>\n",
       "<table border=\"1\" class=\"dataframe\">\n",
       "  <thead>\n",
       "    <tr style=\"text-align: right;\">\n",
       "      <th></th>\n",
       "      <th>Abstrak_indo</th>\n",
       "    </tr>\n",
       "  </thead>\n",
       "  <tbody>\n",
       "    <tr>\n",
       "      <th>0</th>\n",
       "      <td>Toko Batik Tulis Madura merupakan salah satu t...</td>\n",
       "    </tr>\n",
       "    <tr>\n",
       "      <th>1</th>\n",
       "      <td>PT. Pos Indonesia (Persero) merupakan salah sa...</td>\n",
       "    </tr>\n",
       "    <tr>\n",
       "      <th>2</th>\n",
       "      <td>Kabupaten Pamekasan merupakan salah satu pusat...</td>\n",
       "    </tr>\n",
       "    <tr>\n",
       "      <th>3</th>\n",
       "      <td>Pemilihan  supplier merupakan salah satu isu p...</td>\n",
       "    </tr>\n",
       "    <tr>\n",
       "      <th>4</th>\n",
       "      <td>ABSTRAK\\r\\nData yang terdapat pada SMA Wachid ...</td>\n",
       "    </tr>\n",
       "    <tr>\n",
       "      <th>5</th>\n",
       "      <td>Sumber daya manusia mutlak dibutuhkan untuk ke...</td>\n",
       "    </tr>\n",
       "    <tr>\n",
       "      <th>6</th>\n",
       "      <td>Deteksi manusia merupakan  suatu aplikasi yang...</td>\n",
       "    </tr>\n",
       "    <tr>\n",
       "      <th>7</th>\n",
       "      <td>Aplikasi klasifikasi status gizi balita ini di...</td>\n",
       "    </tr>\n",
       "    <tr>\n",
       "      <th>8</th>\n",
       "      <td>Setiap perusahaan mengharapkan adanya hubungan...</td>\n",
       "    </tr>\n",
       "    <tr>\n",
       "      <th>9</th>\n",
       "      <td>Sebuah citra banyak diterapkan dalam berbagai ...</td>\n",
       "    </tr>\n",
       "  </tbody>\n",
       "</table>\n",
       "</div>"
      ],
      "text/plain": [
       "                                        Abstrak_indo\n",
       "0  Toko Batik Tulis Madura merupakan salah satu t...\n",
       "1  PT. Pos Indonesia (Persero) merupakan salah sa...\n",
       "2  Kabupaten Pamekasan merupakan salah satu pusat...\n",
       "3  Pemilihan  supplier merupakan salah satu isu p...\n",
       "4  ABSTRAK\\r\\nData yang terdapat pada SMA Wachid ...\n",
       "5  Sumber daya manusia mutlak dibutuhkan untuk ke...\n",
       "6  Deteksi manusia merupakan  suatu aplikasi yang...\n",
       "7  Aplikasi klasifikasi status gizi balita ini di...\n",
       "8  Setiap perusahaan mengharapkan adanya hubungan...\n",
       "9  Sebuah citra banyak diterapkan dalam berbagai ..."
      ]
     },
     "execution_count": 5,
     "metadata": {},
     "output_type": "execute_result"
    }
   ],
   "source": [
    "df.head(10)"
   ]
  },
  {
   "cell_type": "markdown",
   "id": "925b71f3",
   "metadata": {},
   "source": [
    "## 2. Tokenisasi dan Stopword"
   ]
  },
  {
   "cell_type": "markdown",
   "id": "58c6b1f8",
   "metadata": {},
   "source": [
    "Import library unntuk proses tokenisasi dan stopword yaitu word_tokenize dan stopwords berbahasa indonesia. library punctuation untuk menghilangkan spesial karakter. Dan library CountVectorizer untuk proses featur extraction"
   ]
  },
  {
   "cell_type": "code",
   "execution_count": 6,
   "id": "37266ee3",
   "metadata": {},
   "outputs": [],
   "source": [
    "# import package\n",
    "from nltk.tokenize import word_tokenize\n",
    "from nltk.corpus import stopwords\n",
    "from sklearn.feature_extraction.text import CountVectorizer\n",
    "from string import punctuation\n",
    "sw_indo = stopwords.words('indonesian') + list(punctuation)"
   ]
  },
  {
   "cell_type": "markdown",
   "id": "64ba7312",
   "metadata": {},
   "source": [
    "Menampilkan kata stopwords berbahasa indonesia dan spesial karakter yang akan dihapus. "
   ]
  },
  {
   "cell_type": "code",
   "execution_count": 7,
   "id": "ca275c56",
   "metadata": {},
   "outputs": [
    {
     "name": "stdout",
     "output_type": "stream",
     "text": [
      "['ada', 'adalah', 'adanya', 'adapun', 'agak', 'agaknya', 'agar', 'akan', 'akankah', 'akhir', 'akhiri', 'akhirnya', 'aku', 'akulah', 'amat', 'amatlah', 'anda', 'andalah', 'antar', 'antara', 'antaranya', 'apa', 'apaan', 'apabila', 'apakah', 'apalagi', 'apatah', 'artinya', 'asal', 'asalkan', 'atas', 'atau', 'ataukah', 'ataupun', 'awal', 'awalnya', 'bagai', 'bagaikan', 'bagaimana', 'bagaimanakah', 'bagaimanapun', 'bagi', 'bagian', 'bahkan', 'bahwa', 'bahwasanya', 'baik', 'bakal', 'bakalan', 'balik', 'banyak', 'bapak', 'baru', 'bawah', 'beberapa', 'begini', 'beginian', 'beginikah', 'beginilah', 'begitu', 'begitukah', 'begitulah', 'begitupun', 'bekerja', 'belakang', 'belakangan', 'belum', 'belumlah', 'benar', 'benarkah', 'benarlah', 'berada', 'berakhir', 'berakhirlah', 'berakhirnya', 'berapa', 'berapakah', 'berapalah', 'berapapun', 'berarti', 'berawal', 'berbagai', 'berdatangan', 'beri', 'berikan', 'berikut', 'berikutnya', 'berjumlah', 'berkali-kali', 'berkata', 'berkehendak', 'berkeinginan', 'berkenaan', 'berlainan', 'berlalu', 'berlangsung', 'berlebihan', 'bermacam', 'bermacam-macam', 'bermaksud', 'bermula', 'bersama', 'bersama-sama', 'bersiap', 'bersiap-siap', 'bertanya', 'bertanya-tanya', 'berturut', 'berturut-turut', 'bertutur', 'berujar', 'berupa', 'besar', 'betul', 'betulkah', 'biasa', 'biasanya', 'bila', 'bilakah', 'bisa', 'bisakah', 'boleh', 'bolehkah', 'bolehlah', 'buat', 'bukan', 'bukankah', 'bukanlah', 'bukannya', 'bulan', 'bung', 'cara', 'caranya', 'cukup', 'cukupkah', 'cukuplah', 'cuma', 'dahulu', 'dalam', 'dan', 'dapat', 'dari', 'daripada', 'datang', 'dekat', 'demi', 'demikian', 'demikianlah', 'dengan', 'depan', 'di', 'dia', 'diakhiri', 'diakhirinya', 'dialah', 'diantara', 'diantaranya', 'diberi', 'diberikan', 'diberikannya', 'dibuat', 'dibuatnya', 'didapat', 'didatangkan', 'digunakan', 'diibaratkan', 'diibaratkannya', 'diingat', 'diingatkan', 'diinginkan', 'dijawab', 'dijelaskan', 'dijelaskannya', 'dikarenakan', 'dikatakan', 'dikatakannya', 'dikerjakan', 'diketahui', 'diketahuinya', 'dikira', 'dilakukan', 'dilalui', 'dilihat', 'dimaksud', 'dimaksudkan', 'dimaksudkannya', 'dimaksudnya', 'diminta', 'dimintai', 'dimisalkan', 'dimulai', 'dimulailah', 'dimulainya', 'dimungkinkan', 'dini', 'dipastikan', 'diperbuat', 'diperbuatnya', 'dipergunakan', 'diperkirakan', 'diperlihatkan', 'diperlukan', 'diperlukannya', 'dipersoalkan', 'dipertanyakan', 'dipunyai', 'diri', 'dirinya', 'disampaikan', 'disebut', 'disebutkan', 'disebutkannya', 'disini', 'disinilah', 'ditambahkan', 'ditandaskan', 'ditanya', 'ditanyai', 'ditanyakan', 'ditegaskan', 'ditujukan', 'ditunjuk', 'ditunjuki', 'ditunjukkan', 'ditunjukkannya', 'ditunjuknya', 'dituturkan', 'dituturkannya', 'diucapkan', 'diucapkannya', 'diungkapkan', 'dong', 'dua', 'dulu', 'empat', 'enggak', 'enggaknya', 'entah', 'entahlah', 'guna', 'gunakan', 'hal', 'hampir', 'hanya', 'hanyalah', 'hari', 'harus', 'haruslah', 'harusnya', 'hendak', 'hendaklah', 'hendaknya', 'hingga', 'ia', 'ialah', 'ibarat', 'ibaratkan', 'ibaratnya', 'ibu', 'ikut', 'ingat', 'ingat-ingat', 'ingin', 'inginkah', 'inginkan', 'ini', 'inikah', 'inilah', 'itu', 'itukah', 'itulah', 'jadi', 'jadilah', 'jadinya', 'jangan', 'jangankan', 'janganlah', 'jauh', 'jawab', 'jawaban', 'jawabnya', 'jelas', 'jelaskan', 'jelaslah', 'jelasnya', 'jika', 'jikalau', 'juga', 'jumlah', 'jumlahnya', 'justru', 'kala', 'kalau', 'kalaulah', 'kalaupun', 'kalian', 'kami', 'kamilah', 'kamu', 'kamulah', 'kan', 'kapan', 'kapankah', 'kapanpun', 'karena', 'karenanya', 'kasus', 'kata', 'katakan', 'katakanlah', 'katanya', 'ke', 'keadaan', 'kebetulan', 'kecil', 'kedua', 'keduanya', 'keinginan', 'kelamaan', 'kelihatan', 'kelihatannya', 'kelima', 'keluar', 'kembali', 'kemudian', 'kemungkinan', 'kemungkinannya', 'kenapa', 'kepada', 'kepadanya', 'kesampaian', 'keseluruhan', 'keseluruhannya', 'keterlaluan', 'ketika', 'khususnya', 'kini', 'kinilah', 'kira', 'kira-kira', 'kiranya', 'kita', 'kitalah', 'kok', 'kurang', 'lagi', 'lagian', 'lah', 'lain', 'lainnya', 'lalu', 'lama', 'lamanya', 'lanjut', 'lanjutnya', 'lebih', 'lewat', 'lima', 'luar', 'macam', 'maka', 'makanya', 'makin', 'malah', 'malahan', 'mampu', 'mampukah', 'mana', 'manakala', 'manalagi', 'masa', 'masalah', 'masalahnya', 'masih', 'masihkah', 'masing', 'masing-masing', 'mau', 'maupun', 'melainkan', 'melakukan', 'melalui', 'melihat', 'melihatnya', 'memang', 'memastikan', 'memberi', 'memberikan', 'membuat', 'memerlukan', 'memihak', 'meminta', 'memintakan', 'memisalkan', 'memperbuat', 'mempergunakan', 'memperkirakan', 'memperlihatkan', 'mempersiapkan', 'mempersoalkan', 'mempertanyakan', 'mempunyai', 'memulai', 'memungkinkan', 'menaiki', 'menambahkan', 'menandaskan', 'menanti', 'menanti-nanti', 'menantikan', 'menanya', 'menanyai', 'menanyakan', 'mendapat', 'mendapatkan', 'mendatang', 'mendatangi', 'mendatangkan', 'menegaskan', 'mengakhiri', 'mengapa', 'mengatakan', 'mengatakannya', 'mengenai', 'mengerjakan', 'mengetahui', 'menggunakan', 'menghendaki', 'mengibaratkan', 'mengibaratkannya', 'mengingat', 'mengingatkan', 'menginginkan', 'mengira', 'mengucapkan', 'mengucapkannya', 'mengungkapkan', 'menjadi', 'menjawab', 'menjelaskan', 'menuju', 'menunjuk', 'menunjuki', 'menunjukkan', 'menunjuknya', 'menurut', 'menuturkan', 'menyampaikan', 'menyangkut', 'menyatakan', 'menyebutkan', 'menyeluruh', 'menyiapkan', 'merasa', 'mereka', 'merekalah', 'merupakan', 'meski', 'meskipun', 'meyakini', 'meyakinkan', 'minta', 'mirip', 'misal', 'misalkan', 'misalnya', 'mula', 'mulai', 'mulailah', 'mulanya', 'mungkin', 'mungkinkah', 'nah', 'naik', 'namun', 'nanti', 'nantinya', 'nyaris', 'nyatanya', 'oleh', 'olehnya', 'pada', 'padahal', 'padanya', 'pak', 'paling', 'panjang', 'pantas', 'para', 'pasti', 'pastilah', 'penting', 'pentingnya', 'per', 'percuma', 'perlu', 'perlukah', 'perlunya', 'pernah', 'persoalan', 'pertama', 'pertama-tama', 'pertanyaan', 'pertanyakan', 'pihak', 'pihaknya', 'pukul', 'pula', 'pun', 'punya', 'rasa', 'rasanya', 'rata', 'rupanya', 'saat', 'saatnya', 'saja', 'sajalah', 'saling', 'sama', 'sama-sama', 'sambil', 'sampai', 'sampai-sampai', 'sampaikan', 'sana', 'sangat', 'sangatlah', 'satu', 'saya', 'sayalah', 'se', 'sebab', 'sebabnya', 'sebagai', 'sebagaimana', 'sebagainya', 'sebagian', 'sebaik', 'sebaik-baiknya', 'sebaiknya', 'sebaliknya', 'sebanyak', 'sebegini', 'sebegitu', 'sebelum', 'sebelumnya', 'sebenarnya', 'seberapa', 'sebesar', 'sebetulnya', 'sebisanya', 'sebuah', 'sebut', 'sebutlah', 'sebutnya', 'secara', 'secukupnya', 'sedang', 'sedangkan', 'sedemikian', 'sedikit', 'sedikitnya', 'seenaknya', 'segala', 'segalanya', 'segera', 'seharusnya', 'sehingga', 'seingat', 'sejak', 'sejauh', 'sejenak', 'sejumlah', 'sekadar', 'sekadarnya', 'sekali', 'sekali-kali', 'sekalian', 'sekaligus', 'sekalipun', 'sekarang', 'sekarang', 'sekecil', 'seketika', 'sekiranya', 'sekitar', 'sekitarnya', 'sekurang-kurangnya', 'sekurangnya', 'sela', 'selain', 'selaku', 'selalu', 'selama', 'selama-lamanya', 'selamanya', 'selanjutnya', 'seluruh', 'seluruhnya', 'semacam', 'semakin', 'semampu', 'semampunya', 'semasa', 'semasih', 'semata', 'semata-mata', 'semaunya', 'sementara', 'semisal', 'semisalnya', 'sempat', 'semua', 'semuanya', 'semula', 'sendiri', 'sendirian', 'sendirinya', 'seolah', 'seolah-olah', 'seorang', 'sepanjang', 'sepantasnya', 'sepantasnyalah', 'seperlunya', 'seperti', 'sepertinya', 'sepihak', 'sering', 'seringnya', 'serta', 'serupa', 'sesaat', 'sesama', 'sesampai', 'sesegera', 'sesekali', 'seseorang', 'sesuatu', 'sesuatunya', 'sesudah', 'sesudahnya', 'setelah', 'setempat', 'setengah', 'seterusnya', 'setiap', 'setiba', 'setibanya', 'setidak-tidaknya', 'setidaknya', 'setinggi', 'seusai', 'sewaktu', 'siap', 'siapa', 'siapakah', 'siapapun', 'sini', 'sinilah', 'soal', 'soalnya', 'suatu', 'sudah', 'sudahkah', 'sudahlah', 'supaya', 'tadi', 'tadinya', 'tahu', 'tahun', 'tak', 'tambah', 'tambahnya', 'tampak', 'tampaknya', 'tandas', 'tandasnya', 'tanpa', 'tanya', 'tanyakan', 'tanyanya', 'tapi', 'tegas', 'tegasnya', 'telah', 'tempat', 'tengah', 'tentang', 'tentu', 'tentulah', 'tentunya', 'tepat', 'terakhir', 'terasa', 'terbanyak', 'terdahulu', 'terdapat', 'terdiri', 'terhadap', 'terhadapnya', 'teringat', 'teringat-ingat', 'terjadi', 'terjadilah', 'terjadinya', 'terkira', 'terlalu', 'terlebih', 'terlihat', 'termasuk', 'ternyata', 'tersampaikan', 'tersebut', 'tersebutlah', 'tertentu', 'tertuju', 'terus', 'terutama', 'tetap', 'tetapi', 'tiap', 'tiba', 'tiba-tiba', 'tidak', 'tidakkah', 'tidaklah', 'tiga', 'tinggi', 'toh', 'tunjuk', 'turut', 'tutur', 'tuturnya', 'ucap', 'ucapnya', 'ujar', 'ujarnya', 'umum', 'umumnya', 'ungkap', 'ungkapnya', 'untuk', 'usah', 'usai', 'waduh', 'wah', 'wahai', 'waktu', 'waktunya', 'walau', 'walaupun', 'wong', 'yaitu', 'yakin', 'yakni', 'yang', '!', '\"', '#', '$', '%', '&', \"'\", '(', ')', '*', '+', ',', '-', '.', '/', ':', ';', '<', '=', '>', '?', '@', '[', '\\\\', ']', '^', '_', '`', '{', '|', '}', '~']\n"
     ]
    }
   ],
   "source": [
    "print(sw_indo)"
   ]
  },
  {
   "cell_type": "markdown",
   "id": "8128d058",
   "metadata": {},
   "source": [
    "## 3. Extract Bag of Words (BoW)"
   ]
  },
  {
   "cell_type": "markdown",
   "id": "ed86635f",
   "metadata": {},
   "source": [
    "Bag of words (BOW) adalah teknik untuk mengekstrak fitur dari teks"
   ]
  },
  {
   "cell_type": "markdown",
   "id": "3c84e762",
   "metadata": {},
   "source": [
    "Dibawah ini proses untuk pemrosesan tokenisasi dan stopword. "
   ]
  },
  {
   "cell_type": "code",
   "execution_count": 8,
   "id": "7036143a",
   "metadata": {},
   "outputs": [
    {
     "name": "stderr",
     "output_type": "stream",
     "text": [
      "C:\\ProgramData\\Anaconda3\\lib\\site-packages\\sklearn\\feature_extraction\\text.py:388: UserWarning: Your stop_words may be inconsistent with your preprocessing. Tokenizing the stop words generated tokens ['``'] not in stop_words.\n",
      "  warnings.warn('Your stop_words may be inconsistent with '\n"
     ]
    }
   ],
   "source": [
    "\n",
    "bow = CountVectorizer(ngram_range=(1, 2), tokenizer=word_tokenize, stop_words=sw_indo, min_df=5)\n",
    "bow_matrix = bow.fit_transform(df.Abstrak_indo)"
   ]
  },
  {
   "cell_type": "markdown",
   "id": "db2f5c6a",
   "metadata": {},
   "source": [
    "Hasil untuk proses diatas  diperoleh kata seperti kumpulan kata dibawah kemudian akan di proses untuk Topik modeling LSA"
   ]
  },
  {
   "cell_type": "code",
   "execution_count": 9,
   "id": "7edb99e8",
   "metadata": {},
   "outputs": [
    {
     "name": "stdout",
     "output_type": "stream",
     "text": [
      "['1', '10', '2', '3', '6', 'akurasi', 'algoritma', 'analisa', 'analysis', 'analytic', 'aplikasi', 'aspek', 'bahan', 'bangkalan', 'batik', 'bentuk', 'berbasis', 'berbeda', 'berdasarkan', 'berfungsi', 'bergerak', 'berkembang', 'bertujuan', 'bidang', 'bobot', 'cepat', 'citra', 'coba', 'coba aplikasi', 'coba sistem', 'daerah', 'dasar', 'data', 'data pelatihan', 'database', 'diambil', 'dibutuhkan', 'didalam', 'didapatkan', 'diharapkan', 'dimana', 'diperoleh', 'distance', 'ditentukan', 'diterapkan', 'efisien', 'ekstraksi', 'ekstraksi fitur', 'euclidean', 'euclidean distance', 'faktor', 'fitur', 'fungsi', 'fuzzy', 'gambar', 'game', 'hasil', 'hasil akurasi', 'hasil penelitian', 'hasil pengujian', 'hasil uji', 'indonesia', 'informasi', 'jaringan', 'jenis', 'kabupaten', 'kali', 'karakteristik', 'kebutuhan', 'kelas', 'kemampuan', 'kemiripan', 'keputusan', 'kinerja', 'klasifikasi', 'komputer', 'kriteria', 'kualitas', 'kunci', 'kunci sistem', 'learning', 'madura', 'manual', 'manusia', 'mata', 'matrix', 'media', 'memanfaatkan', 'membantu', 'memiliki', 'memprediksi', 'memudahkan', 'mencari', 'mendukung', 'menentukan', 'mengatasi', 'mengembangkan', 'menghasilkan', 'meningkatkan', 'metode', 'metode fuzzy', 'model', 'mse', 'mudah', 'network', 'nilai', 'objek', 'obyek', 'orang', 'otomatis', 'pamekasan', 'parameter', 'pelatihan', 'pelayanan', 'pembuatan', 'pemilihan', 'pencarian', 'pendeteksian', 'pendukung', 'pendukung keputusan', 'penelitian', 'penelitian metode', 'penentuan', 'penerapan', 'pengambilan', 'pengembangan', 'pengenalan', 'pengguna', 'penggunaan', 'pengujian', 'peramalan', 'perhitungan', 'perkembangan', 'permasalahan', 'perusahaan', 'pesat', 'pola', 'process', 'produk', 'program', 'proses', 'pt', 'rata-rata', 'sakit', 'salah', 'salah satunya', 'satunya', 'sesuai', 'sistem', 'sistem informasi', 'sistem pendukung', 'sistem pengenalan', 'skenario', 'solusi', 'studi', 'system', 'tahap', 'teknik', 'teknologi', 'terbaik', 'tingkat', 'tugas', 'tujuan', 'uji', 'uji coba', 'utama']\n"
     ]
    }
   ],
   "source": [
    "vocab = bow.get_feature_names()\n",
    "print(vocab)"
   ]
  },
  {
   "cell_type": "markdown",
   "id": "3c88cfb6",
   "metadata": {},
   "source": [
    "## 4. Topik Modelling LSA"
   ]
  },
  {
   "cell_type": "markdown",
   "id": "8f91b3ea",
   "metadata": {},
   "source": [
    "Menggunakan Librari SVD"
   ]
  },
  {
   "cell_type": "code",
   "execution_count": 10,
   "id": "78e19e58",
   "metadata": {},
   "outputs": [],
   "source": [
    "# import package\n",
    "from sklearn.decomposition import TruncatedSVD"
   ]
  },
  {
   "cell_type": "markdown",
   "id": "05d4e044",
   "metadata": {},
   "source": [
    "Pengurangan dimensi ini dapat dilakukan dengan menggunakan SVD terpotong. SVD, atau dekomposisi nilai tunggal, adalah teknik dalam aljabar linier yang memfaktorkan matriks M apa pun ke dalam produk dari 3 matriks terpisah: M=U*S*V, di mana S adalah matriks diagonal dari nilai tunggal M. Secara kritis, SVD terpotong mengurangi dimensi dengan hanya memilih nilai tunggal terbesar, dan hanya mempertahankan kolom t pertama U dan V. Dalam hal ini, t adalah hyperparameter yang dapat kita pilih dan sesuaikan untuk mencerminkan jumlah topik yang ingin kita temukan."
   ]
  },
  {
   "cell_type": "code",
   "execution_count": 11,
   "id": "c0a3ac1b",
   "metadata": {},
   "outputs": [],
   "source": [
    "# LSA component\n",
    "lsa = TruncatedSVD(n_components=10, n_iter=10, random_state=42)\n",
    "lsa_matrix = lsa.fit_transform(bow_matrix)"
   ]
  },
  {
   "cell_type": "code",
   "execution_count": 12,
   "id": "0400c6f7",
   "metadata": {},
   "outputs": [
    {
     "name": "stdout",
     "output_type": "stream",
     "text": [
      "[[ 3.31692878e+00 -2.22474662e-01  1.05321067e+00 -4.31833999e-01\n",
      "   8.32223230e-01  3.88159397e-02  2.09965752e+00  9.14937294e-01\n",
      "  -2.34492630e-01 -3.03690220e+00]\n",
      " [ 3.01839968e+00 -1.81317891e+00  1.75307083e+00 -2.23135392e+00\n",
      "   2.06990649e-01  2.41735174e+00  3.80599698e-01 -2.02963452e+00\n",
      "  -1.97186483e+00 -1.08504668e+00]\n",
      " [ 3.02394422e+00  4.30185497e-01  1.99981748e+00 -1.40405469e+00\n",
      "   1.07222501e+00 -3.76228312e-01  8.13361458e-01  6.34775380e-01\n",
      "  -3.22139294e-01 -3.22419915e+00]\n",
      " [ 3.01112674e+00 -1.75868916e+00  1.17746167e+00 -2.21485892e+00\n",
      "  -1.36481079e+00  8.90695412e-01  9.63554246e-01 -1.50956378e+00\n",
      "   1.45961522e+00 -3.60715602e-01]\n",
      " [ 5.64104018e+00 -1.86978548e+00 -2.32939582e+00 -5.27772115e-01\n",
      "   2.14084093e+00  1.23794657e+00  8.77813304e+00  2.00979304e+00\n",
      "  -3.42522681e+00 -3.36631827e+00]\n",
      " [ 5.37371868e+00 -4.40648982e+00  2.16077936e+00 -4.58999078e+00\n",
      "  -3.78454752e+00  1.33880969e+00 -3.58712145e+00 -3.77242257e-01\n",
      "  -1.20136234e+00 -1.74308349e+00]\n",
      " [ 7.52170601e+00  3.24447239e+00  2.12771923e-01  9.49982524e-01\n",
      "  -1.20414974e+00  4.40259636e-01 -6.22640643e-01 -3.63762177e+00\n",
      "   2.21184516e+00  1.57917543e+00]\n",
      " [ 4.24365715e+00 -1.72773097e+00  6.97235865e-01 -4.71965769e-01\n",
      "   1.09407328e+00 -2.89842943e-01  3.02887816e+00 -1.86049375e+00\n",
      "  -8.08416162e-01  1.14685120e+00]\n",
      " [ 3.09077354e+00 -2.02649435e+00  9.35249830e-01 -2.94415912e+00\n",
      "  -7.69978353e-01  6.43171215e-01 -2.89833374e+00 -2.56171341e+00\n",
      "  -2.98467927e+00 -2.10026991e+00]\n",
      " [ 8.44855912e+00  7.83380004e+00  1.95120919e+00 -2.06710573e+00\n",
      "   1.23786018e+00 -4.97509703e-01 -9.03240623e-01 -2.56992992e+00\n",
      "   1.03348061e+00  3.35027344e+00]\n",
      " [ 1.49489902e+00 -1.55627391e+00  2.58787245e-01  9.13314543e-01\n",
      "   1.86124475e+00 -1.50772002e+00 -9.30545001e-01 -2.77231320e+00\n",
      "   1.35768577e+00  4.18154810e-01]\n",
      " [ 1.91717576e+00 -2.03086804e+00  7.74895453e+00  6.26384217e+00\n",
      "   1.99809781e+00  4.87144666e-01  1.61788891e-02  6.52770329e-01\n",
      "  -1.86340058e-02 -1.35890495e+00]\n",
      " [ 1.73195463e+00 -1.32120612e+00  4.58095561e+00  3.25189212e+00\n",
      "   1.11623879e+00  7.09167619e-01  1.11366151e+00 -1.25061859e+00\n",
      "   8.66283544e-01 -1.20933188e-01]\n",
      " [ 1.79878625e+00 -1.25444621e+00  3.55623524e+00  2.04964811e+00\n",
      "   5.92329597e-01  2.81023135e-01  3.22327968e-01  4.95331378e-01\n",
      "  -1.00055200e-01 -1.65690930e-01]\n",
      " [ 3.72944787e+00 -3.40029864e+00 -3.43167934e+00  9.47190341e-01\n",
      "   3.15480658e+00 -2.03662811e+00 -1.08239618e+00  5.31757795e-01\n",
      "  -5.19628730e-01 -6.46173026e-01]\n",
      " [ 5.89395290e+00 -1.92481982e+00  5.76179622e-01 -1.90208295e-01\n",
      "  -2.45713295e+00  2.40616618e+00  3.13987637e+00 -5.01647494e+00\n",
      "   5.35268195e+00 -1.86869001e+00]\n",
      " [ 1.56526147e+00 -2.03449916e+00 -3.13111647e+00 -1.49110304e+00\n",
      "   1.08129142e+01  1.23748424e+01 -3.96957254e+00  2.12150729e+00\n",
      "   2.57890978e+00  1.39670491e+00]\n",
      " [ 5.31057592e+00  2.96352706e+00  5.33327759e-01 -7.11976984e-01\n",
      "   2.44081075e-01  5.54440461e-01  1.14027757e+00 -1.05899531e+00\n",
      "   3.56151801e-01 -8.30347638e-02]\n",
      " [ 1.38192381e+00 -6.64190505e-01 -2.16916764e-01  7.31559579e-01\n",
      "  -2.69988332e-01 -1.74911739e-01 -1.53690719e-01 -2.35554216e+00\n",
      "   1.87440059e+00  1.58732996e-01]\n",
      " [ 2.64547421e+00 -1.47627829e+00  1.11492658e+00 -2.48781177e-01\n",
      "   4.26886453e-01 -4.88979476e-02  1.01080333e+00 -1.15627976e+00\n",
      "  -5.18353539e-01  2.31371313e+00]\n",
      " [ 1.54757962e+00 -1.01236423e+00  5.39492583e-01 -6.73794444e-03\n",
      "   5.00996124e-01 -2.75510566e-01 -4.81373508e-01 -9.77956389e-01\n",
      "   8.44035548e-01  1.89250873e-02]\n",
      " [ 7.07593251e+00 -1.01365953e+00 -3.03438085e+00  3.44639537e+00\n",
      "  -1.95367420e+00  1.17381809e+00 -2.42625675e-01  2.53515465e+00\n",
      "  -2.45721399e+00  1.14430511e-01]\n",
      " [ 4.21291657e+00 -3.00544668e+00 -1.83341494e+00 -1.21976793e-01\n",
      "   4.12716748e+00 -2.54611546e+00  1.08799415e+00 -1.04570012e+00\n",
      "   6.70836890e-01 -2.99448991e+00]\n",
      " [ 6.01921712e+00 -3.50809042e+00  2.01738721e+00 -2.09926564e+00\n",
      "  -1.02917929e+00  3.31166137e-01 -6.76088984e-02  6.45998859e-01\n",
      "  -3.01371845e+00  2.88417276e+00]\n",
      " [ 3.31814051e+00 -2.05233983e+00  1.11194272e+00 -1.73400198e+00\n",
      "  -9.33833144e-01  2.18509059e+00 -8.86866560e-01 -1.15707958e+00\n",
      "  -1.88005324e+00 -1.86468859e-01]\n",
      " [ 4.28812563e+00 -3.43601132e+00 -1.31191095e+00  1.91028452e-01\n",
      "   2.22363004e+00 -2.70083009e+00 -5.98179114e-01 -4.46307340e-01\n",
      "  -1.15537232e+00  1.44246004e+00]\n",
      " [ 5.18959767e+00 -3.53788533e+00 -9.56590366e-01 -8.88081070e-02\n",
      "   1.95039144e+00 -2.28716485e+00 -9.01176577e-02 -3.38520763e-01\n",
      "  -1.34962988e+00  2.06147588e+00]\n",
      " [ 4.91371662e+00 -3.29970874e+00 -8.00431925e-01 -8.22489588e-01\n",
      "   3.43529801e-01 -4.64682432e-01  1.65549731e+00  7.85612432e-01\n",
      "  -1.97138880e+00  3.15838473e+00]\n",
      " [ 3.62992090e+00 -2.96874954e+00  8.16635818e+00  6.83299334e+00\n",
      "   1.44474555e+00  8.01488459e-01 -6.75432778e-01  1.48927670e+00\n",
      "   1.43882219e-02 -4.03354878e-01]\n",
      " [ 9.63579560e+00  1.40397102e+00 -5.02729511e+00  5.35724511e+00\n",
      "  -1.82999472e+00  1.21355494e-01 -2.93585326e+00  4.25342464e-01\n",
      "  -1.40699438e+00  1.58023610e+00]\n",
      " [ 1.06235246e+01  6.27407628e+00 -3.77921395e-01 -7.67674086e-01\n",
      "   2.60799395e+00 -1.78513935e+00  4.84185114e-01  1.44353456e+00\n",
      "  -5.13597307e-01 -2.21848363e+00]\n",
      " [ 3.74964660e+00 -3.64932209e+00  1.78149636e+00 -2.77410527e+00\n",
      "  -1.27436458e+00 -1.09073013e+00 -1.79119319e+00  3.19344214e+00\n",
      "   8.49078912e-01  1.44118608e+00]\n",
      " [ 3.42348999e+00 -2.79918166e+00  1.46797247e+00 -3.51446572e+00\n",
      "   3.77059692e-02  1.33343638e+00 -2.40853229e+00 -3.49904574e+00\n",
      "  -3.61506570e+00 -3.11635990e+00]\n",
      " [ 6.59166853e+00  1.69993702e+00 -3.48234016e-02 -1.95112272e-01\n",
      "  -4.77351184e-01  8.75628341e-01  3.07135887e+00  1.40437510e+00\n",
      "  -6.97629100e-01  9.66302169e-02]\n",
      " [ 1.11125674e+01 -4.09312754e-01 -5.56617287e+00  6.13615395e+00\n",
      "  -4.23324493e+00  2.44554621e+00  1.72233114e-02 -3.08978735e-01\n",
      "  -1.37842070e-01 -1.44870924e+00]\n",
      " [ 3.67045610e+00 -1.37043033e+00  1.70616564e+00 -3.11315084e-01\n",
      "  -1.16263343e+00  7.68661664e-01  1.46491462e-01  4.99060649e-01\n",
      "  -8.94048302e-02  6.45834855e-01]\n",
      " [ 3.00145451e+00 -3.13400727e+00 -6.58925628e-01  7.65304182e-01\n",
      "   3.10900025e+00 -3.11262615e+00 -2.15266634e+00 -2.17544637e+00\n",
      "   4.64216810e-01  2.77491155e-01]\n",
      " [ 4.72057281e+00 -2.44555886e+00  2.61340678e-01 -1.98364635e+00\n",
      "   8.19214356e-01  1.56185014e+00  5.85759517e+00  2.28614067e-01\n",
      "  -1.60337620e+00  4.28569945e+00]\n",
      " [ 4.46128035e+00 -3.97749279e+00 -2.04658931e+00 -3.09628175e-01\n",
      "   4.74183840e+00 -5.00517696e+00 -1.15531726e+00 -1.00471043e+00\n",
      "   5.41930865e-01 -1.68520046e+00]\n",
      " [ 1.56084857e+01  1.29605813e+01  2.30737369e+00 -3.03973386e+00\n",
      "   2.94547186e+00 -1.52523065e+00 -3.35111009e-01  2.26819615e+00\n",
      "  -3.91028528e-01 -1.91691600e+00]\n",
      " [ 3.04736305e+00 -3.30616330e+00 -1.66423180e+00  1.85722047e-01\n",
      "   3.40585855e+00 -3.43035555e+00 -7.49955317e-01 -1.27315894e+00\n",
      "   1.38552621e+00 -6.89853568e-01]\n",
      " [ 5.98718513e+00 -3.85212431e+00  1.31006478e+00 -3.42296366e+00\n",
      "  -3.88732710e+00  1.63966008e+00 -2.17084804e+00 -1.41247975e+00\n",
      "  -5.19053664e-01 -1.24991066e+00]\n",
      " [ 3.36368179e+00 -3.50677619e+00  5.49527327e-01 -2.15471372e+00\n",
      "  -6.78235725e-01 -1.83029068e+00 -1.49540270e+00  3.84136985e+00\n",
      "   2.32647984e+00  1.92002617e+00]\n",
      " [ 3.21950645e+00 -1.11727101e+00 -1.93755013e-01  2.03560897e+00\n",
      "  -1.27910368e+00  6.32121921e-01 -7.01643908e-01 -3.43361724e+00\n",
      "   2.82419305e+00 -5.45596496e-02]\n",
      " [ 6.12048625e+00 -4.45108506e+00 -2.03567081e-01 -3.46056753e+00\n",
      "  -2.36376242e+00  3.46835419e-02  3.74353810e+00  3.82850497e+00\n",
      "   8.91414319e+00 -2.09926683e+00]\n",
      " [ 2.21300491e+00 -1.80703097e+00 -1.07163361e+00 -7.62523230e-01\n",
      "   1.35071279e+00  1.75184801e+00 -1.26440648e-01 -2.41777761e-01\n",
      "  -1.38072028e+00 -1.84929154e+00]\n",
      " [ 9.19467957e+00  8.12118821e+00  2.97598341e+00 -1.96651632e+00\n",
      "  -5.92009961e-02 -1.89988854e-01 -2.60291087e+00 -2.57608083e-01\n",
      "   1.17385523e+00  1.70719816e+00]\n",
      " [ 5.32161868e+00 -2.18565388e+00 -1.65290615e+00  1.76477370e+00\n",
      "  -2.30536870e+00  1.11405064e+00 -1.43385757e+00 -1.57666339e+00\n",
      "   1.39979385e+00  9.05797284e-01]\n",
      " [ 5.84499908e+00 -3.90292775e+00  9.14310474e-02 -1.70768951e+00\n",
      "  -1.06062396e+00 -7.35516357e-01 -6.98966200e-01  2.60218785e+00\n",
      "  -5.01279663e-02 -2.06909484e-01]\n",
      " [ 3.15091029e+00 -2.47145344e+00  7.83810049e+00  4.96895313e+00\n",
      "   1.43688616e+00  4.42685422e-01 -1.44550830e-01  1.33906329e+00\n",
      "  -4.78078583e-01 -5.26938027e-01]\n",
      " [ 2.29715749e+00 -1.85099758e+00  1.60110837e+00 -2.42433065e+00\n",
      "  -1.78939863e+00  1.65159076e+00 -1.30188002e+00 -2.32763378e+00\n",
      "  -1.59998025e+00 -2.41665411e+00]\n",
      " [ 3.15106954e+00 -1.66157124e+00 -1.34117607e+00  3.51248992e-01\n",
      "   5.57318019e-01  1.11948312e+00  1.22033261e+00  3.03294603e-01\n",
      "  -9.97321312e-01 -3.05617334e-01]\n",
      " [ 3.62678231e+00 -1.25167050e+00  6.53341836e-01 -5.92315687e-01\n",
      "   6.91812706e-01  6.33817523e-01  3.66827053e+00 -3.97029735e+00\n",
      "  -4.51922876e-01  3.25696279e+00]\n",
      " [ 1.88666370e+00 -1.02809592e+00  1.99127603e-01  2.30913088e-02\n",
      "   1.31277254e+00 -7.15136251e-01  5.98671411e-01 -2.69583534e+00\n",
      "   1.44183445e-01  1.72614705e+00]\n",
      " [ 2.10061012e+00 -1.00636673e+00  1.47270768e+00 -8.36870142e-01\n",
      "   6.25379841e-01  4.47364263e-01  3.30806563e+00 -2.04771616e+00\n",
      "  -6.34007298e-01  3.67006710e+00]\n",
      " [ 1.12229383e+01  3.34387195e-01 -3.81101453e+00  4.65215781e+00\n",
      "  -3.51596410e+00  1.62052259e+00 -4.83608666e-01  1.35008861e+00\n",
      "  -6.78458136e-01 -2.70691368e-01]\n",
      " [ 5.52734438e+00 -4.23078591e+00  1.71166227e+00 -2.28005930e+00\n",
      "  -1.40243063e+00 -1.73249997e+00 -1.99104539e+00  5.51479697e+00\n",
      "   3.53541108e-01  1.87375467e+00]\n",
      " [ 4.05866032e+00 -5.43410481e-01 -1.26780704e+00  2.25460103e+00\n",
      "  -1.03901194e+00  2.15765202e-01 -1.14659925e+00 -1.14952247e+00\n",
      "   6.93128129e-01 -1.54633202e-03]\n",
      " [ 4.36683503e+00 -3.30551503e+00 -1.68755823e+00  7.11170808e-01\n",
      "   4.02116148e+00 -4.15759115e+00 -1.29211012e+00 -2.19277954e+00\n",
      "   7.09392327e-01 -6.46882502e-01]\n",
      " [ 4.84323135e+00 -3.41582113e+00  5.49204773e-01 -1.18141115e+00\n",
      "  -3.18529814e-01 -1.45004301e+00 -1.60599322e+00  1.47230037e+00\n",
      "   6.89818702e-01  2.23418871e+00]]\n"
     ]
    }
   ],
   "source": [
    "print(lsa_matrix)"
   ]
  },
  {
   "cell_type": "markdown",
   "id": "4211edf6",
   "metadata": {},
   "source": [
    "Menampilkan lsa matrik di dokumen 1"
   ]
  },
  {
   "cell_type": "code",
   "execution_count": 13,
   "id": "406bf377",
   "metadata": {},
   "outputs": [
    {
     "name": "stdout",
     "output_type": "stream",
     "text": [
      "Dokumen 1 :\n",
      "Topic  0  :  33.16928782929472\n",
      "Topic  1  :  -2.2247466210399542\n",
      "Topic  2  :  10.532106694048986\n",
      "Topic  3  :  -4.318339993393906\n",
      "Topic  4  :  8.32223230354201\n",
      "Topic  5  :  0.3881593974390384\n",
      "Topic  6  :  20.99657519443356\n",
      "Topic  7  :  9.149372937229225\n",
      "Topic  8  :  -2.3449262965208595\n",
      "Topic  9  :  -30.369021967079295\n"
     ]
    }
   ],
   "source": [
    "l = lsa_matrix[0]\n",
    "print(\"Dokumen 1 :\")\n",
    "\n",
    "for  i,topic in enumerate(l):\n",
    "    print(\"Topic \",i,\" : \",topic*10)"
   ]
  },
  {
   "cell_type": "code",
   "execution_count": 14,
   "id": "16063caa",
   "metadata": {},
   "outputs": [
    {
     "name": "stdout",
     "output_type": "stream",
     "text": [
      "(60, 166)\n",
      "(60, 10)\n",
      "(10, 166)\n"
     ]
    }
   ],
   "source": [
    "# sebelum reducing\n",
    "print(bow_matrix.shape)       # like hidden layer\n",
    "\n",
    "# setelah reducing\n",
    "print(lsa_matrix.shape)       # weight / code\n",
    "print(lsa.components_.shape)  # fitur / topik"
   ]
  },
  {
   "cell_type": "code",
   "execution_count": 15,
   "id": "30a46bea",
   "metadata": {},
   "outputs": [],
   "source": [
    "# get topic\n",
    "def get_topic(model):\n",
    "    return [[vocab[idx] for idx in reversed(comp.argsort()[-6:]) if vocab[idx].isalnum()]\n",
    "           for comp in model.components_]"
   ]
  },
  {
   "cell_type": "markdown",
   "id": "d943e944",
   "metadata": {},
   "source": [
    "Hasil Topik LSA"
   ]
  },
  {
   "cell_type": "code",
   "execution_count": 16,
   "id": "99adeca9",
   "metadata": {},
   "outputs": [
    {
     "data": {
      "text/plain": [
       "[['citra', 'metode', 'sistem', 'hasil', 'proses', 'data'],\n",
       " ['citra', 'batik', 'fitur', 'gambar', 'kemiripan', 'obyek'],\n",
       " ['game', 'metode', 'perusahaan', 'penelitian', 'hasil', 'madura'],\n",
       " ['game', 'pengenalan', 'proses', 'coba', 'uji'],\n",
       " ['jaringan', 'informasi', 'bangkalan', 'aplikasi', 'game', 'data'],\n",
       " ['jaringan', 'komputer', 'hasil', 'perusahaan', 'proses', 'pengenalan'],\n",
       " ['data', 'nilai', 'kebutuhan', 'teknik', 'algoritma', 'distance'],\n",
       " ['metode', 'keputusan', 'pendukung', 'kebutuhan'],\n",
       " ['teknik', 'proses', 'kebutuhan', 'pemilihan', 'jaringan', 'aplikasi'],\n",
       " ['nilai', 'metode', 'algoritma', 'mata', 'menentukan', 'jaringan']]"
      ]
     },
     "execution_count": 16,
     "metadata": {},
     "output_type": "execute_result"
    }
   ],
   "source": [
    "# LSA topic\n",
    "get_topic(lsa)"
   ]
  },
  {
   "cell_type": "code",
   "execution_count": null,
   "id": "543f9e2c",
   "metadata": {},
   "outputs": [],
   "source": []
  },
  {
   "cell_type": "code",
   "execution_count": null,
   "id": "07f3c8a3",
   "metadata": {},
   "outputs": [],
   "source": []
  }
 ],
 "metadata": {
  "kernelspec": {
   "display_name": "Python 3 (ipykernel)",
   "language": "python",
   "name": "python3"
  },
  "language_info": {
   "codemirror_mode": {
    "name": "ipython",
    "version": 3
   },
   "file_extension": ".py",
   "mimetype": "text/x-python",
   "name": "python",
   "nbconvert_exporter": "python",
   "pygments_lexer": "ipython3",
   "version": "3.9.7"
  }
 },
 "nbformat": 4,
 "nbformat_minor": 5
}
